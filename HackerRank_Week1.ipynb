{
 "cells": [
  {
   "cell_type": "code",
   "execution_count": 18,
   "metadata": {},
   "outputs": [],
   "source": [
    "import math\n",
    "import os\n",
    "import random\n",
    "import re\n",
    "import sys\n",
    "import csv"
   ]
  },
  {
   "cell_type": "markdown",
   "metadata": {},
   "source": [
    "<h1> Plus Minus </h1>\n",
    "Given an array of integers, calculate the ratios of its elements that are positive, negative, and zero. Print the decimal value of each fraction on a new line with  places after the decimal."
   ]
  },
  {
   "cell_type": "code",
   "execution_count": 13,
   "metadata": {},
   "outputs": [
    {
     "data": {
      "text/plain": [
       "('0.500000,0.333333,0.166667', '0.400000,0.200000,0.400000')"
      ]
     },
     "execution_count": 13,
     "metadata": {},
     "output_type": "execute_result"
    }
   ],
   "source": [
    "def plusMinus(arr):\n",
    "    # Write your code here\n",
    "\n",
    "    arr = list(map(int, arr.split()))\n",
    "\n",
    "\n",
    "    neg, pos, zero = 0,0,0\n",
    "    length_array = len(arr)\n",
    "    for i in arr:\n",
    "        if i < 0: neg += 1\n",
    "        elif i>0: pos += 1\n",
    "        else: zero += 1\n",
    "            \n",
    "        \n",
    "    return  f\"{pos/length_array:6f},{neg/length_array:5f},{zero/length_array:6f}\"\n",
    "\n",
    "\n",
    "plusMinus('-4 3 -9 0 4 1'), plusMinus('0 0 -1 1 1')\n",
    "\n",
    "#0.500000, 0.333333, 0.166667; 0.400000, 0.200000, 0.400000\n"
   ]
  },
  {
   "cell_type": "markdown",
   "metadata": {},
   "source": [
    "<h1> Mini-Max Sum </h1>\n",
    "\n",
    "Given five positive integers, find the minimum and maximum values that can be calculated by summing exactly four of the five integers. Then print the respective minimum and maximum values as a single line of two space-separated long integers"
   ]
  },
  {
   "cell_type": "code",
   "execution_count": 14,
   "metadata": {},
   "outputs": [
    {
     "data": {
      "text/plain": [
       "((10, 14), (2063136757, 2744467344))"
      ]
     },
     "execution_count": 14,
     "metadata": {},
     "output_type": "execute_result"
    }
   ],
   "source": [
    "def miniMaxSum(arr):\n",
    "    # Write your code here\n",
    "    arr = list(map(int, arr.split()))\n",
    "    arr.sort()\n",
    "    return sum(arr[:4]), sum(arr[1:])\n",
    "\n",
    "\n",
    "miniMaxSum('1 2 3 4 5'), miniMaxSum('256741038 623958417 467905213 714532089 938071625') \n",
    "#10, 14; 2063136757 2744467344"
   ]
  },
  {
   "cell_type": "markdown",
   "metadata": {},
   "source": [
    "<h1> Time Conversion </h1>\n",
    "Given a time in -hour AM/PM format, convert it to military (24-hour) time.\n",
    "\n",
    "Note: - 12:00:00AM on a 12-hour clock is 00:00:00 on a 24-hour clock.\n",
    "- 12:00:00PM on a 12-hour clock is 12:00:00 on a 24-hour clock."
   ]
  },
  {
   "cell_type": "code",
   "execution_count": 15,
   "metadata": {},
   "outputs": [
    {
     "data": {
      "text/plain": [
       "('19:05:45', '00:40:22', '06:40:03', '00:05:39')"
      ]
     },
     "execution_count": 15,
     "metadata": {},
     "output_type": "execute_result"
    }
   ],
   "source": [
    "def timeConversion(s):\n",
    "    # Write your code here\n",
    "    if s.endswith('AM') & (s[:2] == '12'): return '00'+s[2:len(s)-2]\n",
    "    elif s.endswith('AM') | (s[:2] == '12'): return s[:len(s)-2]\n",
    "    else: return str(int(s[:2])+12)+s[2:len(s)-2]\n",
    "\n",
    "timeConversion('07:05:45PM'), timeConversion('12:40:22AM'), timeConversion('06:40:03AM'), timeConversion('12:05:39AM')\n",
    "\n",
    "#19:05:45, 00:40:22, 06:40:03, 00:05:39"
   ]
  },
  {
   "cell_type": "markdown",
   "metadata": {},
   "source": [
    "<h1> Sparse Arrays </h1>\n",
    "There is a collection of input strings and a collection of query strings. For each query string, determine how many times it occurs in the list of input strings. Return an array of the results."
   ]
  },
  {
   "cell_type": "code",
   "execution_count": 38,
   "metadata": {},
   "outputs": [
    {
     "data": {
      "text/plain": [
       "([2, 1, 0], [1, 0, 1], [1, 3, 4, 3, 2])"
      ]
     },
     "execution_count": 38,
     "metadata": {},
     "output_type": "execute_result"
    }
   ],
   "source": [
    "def matchingStrings(strings, queries):\n",
    "    # Write your code here\n",
    "\n",
    "    res=[] \n",
    "    count=0\n",
    "    for query in queries:\n",
    "        res.append(strings.count(query)) \n",
    "    return res\n",
    "\n",
    "\n",
    "# env_var = os.environ\n",
    "\n",
    "# print(env_var)\n",
    "\n",
    "# rows = []\n",
    "# with open('input10.csv', 'r') as file:\n",
    "#     csvreader = csv.reader(file)\n",
    "#     strings = ''\n",
    "#     queries = next(csvreader)\n",
    "#     for row in csvreader:\n",
    "#         strings += row[0] + ' '\n",
    "#         if row[0].isalpha() == 0: \n",
    "#             matchingStrings(strings, queries)\n",
    "#             queries = row[0]\n",
    "#             strings = ''\n",
    "\n",
    "\n",
    "# if __name__ == '__main__':\n",
    "#     fptr = open(os.environ['OUTPUT_PATH'], 'w')\n",
    "\n",
    "#     strings_count = int(input().strip())\n",
    "\n",
    "#     strings = []\n",
    "#     for _ in range(strings_count):\n",
    "#         strings_item = input()\n",
    "#         strings.append(strings_item)\n",
    "\n",
    "#     queries_count = int(input().strip())\n",
    "\n",
    "#     queries = []\n",
    "\n",
    "#     for _ in range(queries_count):\n",
    "#         queries_item = input()\n",
    "#         queries.append(queries_item)\n",
    "\n",
    "#     res = matchingStrings(strings, queries)\n",
    "\n",
    "#     fptr.write('\\n'.join(map(str, res)))\n",
    "#     fptr.write('\\n')\n",
    "\n",
    "#     fptr.close()\n",
    "\n",
    "\n",
    "matchingStrings(['aba', 'baba', 'aba','xzxb'], ['aba', 'xzxb', 'ab']), matchingStrings(['def', 'de', 'fgh'], ['de', 'lmn', 'fgh']), matchingStrings(['abcde', 'sdaklfj', 'asdjf', 'na', 'basdn', 'sdaklfj', 'asdjf', 'na', 'asdjf', 'na',\n",
    "'basdn', 'sdaklfj', 'asdjf'], ['abcde', 'sdaklfj', 'asdjf', 'na','basdn'])\n",
    "\n",
    "#2 1 0; 1 0 1; 1 3 4 3 2\n",
    "\n"
   ]
  },
  {
   "cell_type": "markdown",
   "metadata": {},
   "source": [
    "<h1> Lonely Integer </h1>\n",
    "\n",
    "Given an array of integers, where all elements but one occur twice, find the unique element."
   ]
  },
  {
   "cell_type": "code",
   "execution_count": 45,
   "metadata": {},
   "outputs": [
    {
     "data": {
      "text/plain": [
       "('1', '2', '2', '95')"
      ]
     },
     "execution_count": 45,
     "metadata": {},
     "output_type": "execute_result"
    }
   ],
   "source": [
    "def lonelyinteger(a):\n",
    "    # Write your code here\n",
    "    for i in a:\n",
    "        if a.count(i) == 1: return i\n",
    "\n",
    "lonelyinteger('1'), lonelyinteger(['1', '1', '2']), lonelyinteger('0 0 1 2 1'), lonelyinteger(['4', '9', '95', '93', '57', '4', '57', '93', '9'])\n",
    "\n",
    "#1; 2; 2; 95"
   ]
  },
  {
   "cell_type": "markdown",
   "metadata": {},
   "source": [
    "<h1> Flipping Bits </h1>\n",
    "You will be given a list of 32 bit unsigned integers. Flip all the bits ( $1 \\to 0$ and $0 \\to 1$ ) and return the result as an unsigned integer."
   ]
  },
  {
   "cell_type": "code",
   "execution_count": 48,
   "metadata": {},
   "outputs": [
    {
     "data": {
      "text/plain": [
       "(2147483648, 4294967294, 4294967295, 0, 4227858431)"
      ]
     },
     "execution_count": 48,
     "metadata": {},
     "output_type": "execute_result"
    }
   ],
   "source": [
    "\n",
    "def flippingBits(n):\n",
    "    #Write code here\n",
    "    binary_val = \"{:032b}\".format(n)\n",
    "    my_table = binary_val.maketrans({'0':'1','1':'0'}) \n",
    "    flipped_binary_val = binary_val.translate(my_table)\n",
    "    res = 0\n",
    "    reverse_flipped_binary = flipped_binary_val[::-1]\n",
    "    for i in range(len(flipped_binary_val)):\n",
    "        if reverse_flipped_binary[i] == '1': res += 2**i \n",
    "    return res\n",
    "\n",
    "flippingBits(2147483647), flippingBits(1), flippingBits(0), flippingBits(4294967295), flippingBits(67108864)\n",
    "\n",
    "\n",
    "#2147483648; 4294967294; 4294967295; 0; 4294967039\n"
   ]
  },
  {
   "cell_type": "markdown",
   "metadata": {},
   "source": [
    "<h1> Diagonal Difference </h1>\n",
    "\n",
    "Given a square matrix, calculate the absolute difference between the sums of its diagonals.\n",
    "\n",
    "For example, the square matrix  is shown below:\n",
    "\n",
    "$\\begin{bmatrix}1 &2 &3\\\\\n",
    "4 &5 &6\\\\\n",
    "9 &8 &9  \\end{bmatrix}$\n",
    "\n",
    "\n",
    "The left-to-right diagonal is $1 + 5 + 9 = 15$. The right to left diagonal is $3+5+9=17$. <br>\n",
    "Their absolute difference is $|15-17| = 2$."
   ]
  },
  {
   "cell_type": "code",
   "execution_count": 60,
   "metadata": {},
   "outputs": [
    {
     "data": {
      "text/plain": [
       "(15, 1)"
      ]
     },
     "execution_count": 60,
     "metadata": {},
     "output_type": "execute_result"
    }
   ],
   "source": [
    "def diagonalDifference(arr):\n",
    "    # Write your code here\n",
    "    num = len(arr)\n",
    "    first = 0\n",
    "    second = 0\n",
    "    for i in range(0, num):\n",
    "        first += arr[i][i]\n",
    "        second += arr[i][num - i - 1]\n",
    "        \n",
    "    return abs(first - second)\n",
    "\n",
    "\n",
    "diagonalDifference([[11, 2, 4], [4,5,6], [10,8,-12]]), diagonalDifference([[-1,1,-7,-8],[-10,-8,-5,-2],[0,9,7,-1],[4,4,-2,1]])\n",
    "#diagonalDifference([[6,6,7,-10,9,-3,8,9,-1],[9,7,-10,6,4,1,6,1,1],\n",
    "# [-1,-2,4,-6,1,-4,-6,3,9],[-8,7,6,-1,-6,6,-7,2],[-10,-4,9,1,-7,8,-5,3,-5],\n",
    "# [-8,-3,-4,2,-3,7,-5,1,-5],[-2,-7,-4,8,3,-1,8,2,3],[-2,-7,-4,8,3,-1,8,2,3],\n",
    "# [-3,4,6,-7,-7,-8,-3,9,-6],[-2,0,5,4,4,4,-3,3,0]])\n",
    "\n",
    "#15, 1, 52"
   ]
  },
  {
   "cell_type": "markdown",
   "metadata": {},
   "source": [
    "<h1> Counting Sort 1 </h1>\n",
    "\n",
    "Comparison Sorting\n",
    "Quicksort usually has a running time of $n \\times \\log(n)$ , but is there an algorithm that can sort even faster? In general, this is not possible. Most sorting algorithms are comparison sorts, i.e. they sort a list just by comparing the elements to one another. A comparison sort algorithm cannot beat $n \\times \\log(n)$ (worst-case) running time, since $n \\times \\log(n)$ represents the minimum number of comparisons needed to know where to place each element."
   ]
  },
  {
   "cell_type": "code",
   "execution_count": 68,
   "metadata": {},
   "outputs": [
    {
     "data": {
      "text/plain": [
       "[0,\n",
       " 2,\n",
       " 0,\n",
       " 2,\n",
       " 0,\n",
       " 0,\n",
       " 1,\n",
       " 0,\n",
       " 1,\n",
       " 2,\n",
       " 1,\n",
       " 0,\n",
       " 1,\n",
       " 1,\n",
       " 0,\n",
       " 0,\n",
       " 2,\n",
       " 0,\n",
       " 1,\n",
       " 0,\n",
       " 1,\n",
       " 2,\n",
       " 1,\n",
       " 1,\n",
       " 1,\n",
       " 3,\n",
       " 0,\n",
       " 2,\n",
       " 0,\n",
       " 0,\n",
       " 2,\n",
       " 0,\n",
       " 3,\n",
       " 3,\n",
       " 1,\n",
       " 0,\n",
       " 0,\n",
       " 0,\n",
       " 0,\n",
       " 2,\n",
       " 2,\n",
       " 1,\n",
       " 1,\n",
       " 1,\n",
       " 2,\n",
       " 0,\n",
       " 2,\n",
       " 0,\n",
       " 1,\n",
       " 0,\n",
       " 1,\n",
       " 0,\n",
       " 0,\n",
       " 1,\n",
       " 0,\n",
       " 0,\n",
       " 2,\n",
       " 1,\n",
       " 0,\n",
       " 1,\n",
       " 1,\n",
       " 1,\n",
       " 0,\n",
       " 1,\n",
       " 0,\n",
       " 1,\n",
       " 0,\n",
       " 2,\n",
       " 1,\n",
       " 3,\n",
       " 2,\n",
       " 0,\n",
       " 0,\n",
       " 2,\n",
       " 1,\n",
       " 2,\n",
       " 1,\n",
       " 0,\n",
       " 2,\n",
       " 2,\n",
       " 1,\n",
       " 2,\n",
       " 1,\n",
       " 2,\n",
       " 1,\n",
       " 1,\n",
       " 2,\n",
       " 2,\n",
       " 0,\n",
       " 3,\n",
       " 2,\n",
       " 1,\n",
       " 1,\n",
       " 0,\n",
       " 1,\n",
       " 1,\n",
       " 1,\n",
       " 0,\n",
       " 2,\n",
       " 2]"
      ]
     },
     "execution_count": 68,
     "metadata": {},
     "output_type": "execute_result"
    }
   ],
   "source": [
    "def countingSort(arr):\n",
    "    # Write your code here\n",
    "\n",
    "    arr = list(map(int,arr.split()))\n",
    "\n",
    "    res_arr = [0]*100\n",
    "    \n",
    "    for i in arr:\n",
    "        res_arr[i] += 1\n",
    "        \n",
    "    return res_arr\n",
    "\n",
    "    \n",
    "countingSort('63 25 73 1 98 73 56 84 86 57 16 83 8 25 81 56 9 53 98 67 99 12 83 89 80 91 39 86 76 85 74 39 25 90 59 10 94 32 44 3 89 30 27 79 46 96 27 32 18 21 92 69 81 40 40 34 68 78 24 87 42 69 23 41 78 22 6 90 99 89 50 30 20 1 43 3 70 95 33 46 44 9 69 48 33 60 65 16 82 67 61 32 21 79 75 75 13 87 70 33')\n",
    "\n",
    "#0 2 0 2 0 0 1 0 1 2 1 0 1 1 0 0 2 0 1 0 1 2 1 1 1 3 0 2 0 0 2 0 3 3 1 0 0 0 0 2 2 1 1 1 2 0 2 0 1 0 1 0 0 1 0 0 2 1 0 1 1 1 0 1 0 1 0 2 1 3 2 0 0 2 1 2 1 0 2 2 1 2 1 2 1 1 2 2 0 3 2 1 1 0 1 1 1 0 2 2\n"
   ]
  },
  {
   "cell_type": "markdown",
   "metadata": {},
   "source": [
    "<h1> Pangrams </h1>\n",
    "A pangram is a string that contains every letter of the alphabet. Given a sentence determine whether it is a pangram in the English alphabet. Ignore case. Return either pangram or not pangram as appropriate."
   ]
  },
  {
   "cell_type": "code",
   "execution_count": 69,
   "metadata": {},
   "outputs": [
    {
     "data": {
      "text/plain": [
       "('pangram', 'not pangram', 'pangram')"
      ]
     },
     "execution_count": 69,
     "metadata": {},
     "output_type": "execute_result"
    }
   ],
   "source": [
    "def pangrams(s):\n",
    "    # Write your code here\n",
    "    return 'pangram' if len(set(s.replace(' ','').lower())) == 26 else 'not pangram'\n",
    "\n",
    "pangrams('We promptly judged antique ivory buckles for the next prize'), pangrams('We promptly judged antique ivory buckles for the prize'), pangrams('qmExzBIJmdELxyOFWv LOCmefk TwPhargKSPEqSxzveiun')\n",
    "\n",
    "#pangram; not pangram; pangram"
   ]
  },
  {
   "cell_type": "markdown",
   "metadata": {},
   "source": [
    "<h1> Permuting Two Arrays </h1>\n",
    "\n",
    "There are two $n$-element arrays of integers $A$ and $B$. Permute them into some $A'$ and $B'$ such that the relation $A'[i] + B'[i] \\geq k$ holds for all $i$ where $0 \\leq i < n$.\n",
    "\n",
    "There will be $q$ queries consisting of $A,B,$ and $k$. For each query, return YES if some permutation $A',B'$ satisfying the relation exists. Otherwise, return NO."
   ]
  },
  {
   "cell_type": "code",
   "execution_count": 86,
   "metadata": {},
   "outputs": [],
   "source": [
    "def twoArrays(k, A, B):\n",
    "    # Write your code here\n",
    "    A.sort()\n",
    "    B.sort(reverse=True)\n",
    "    for i in range(len(A)):\n",
    "        if A[i] + B[i] < k: return 'NO'\n",
    "    return 'YES'\n",
    "\n",
    "    twoArrays(10, [2,1,3],[7,8,9]), twoArrays(5,[1,2,2,1],[3,3,3,4]), twoArrays(91, [18, 73, 55, 59, 37, 13, 1, 33], [81, 11, 77, 49, 65, 26, 29, 49])\n",
    "\n",
    "    #YES; NO; NO"
   ]
  },
  {
   "cell_type": "markdown",
   "metadata": {},
   "source": [
    "<h1> SubArray Division 1 </h1>\n",
    "\n",
    "Two children, Lily and Ron, want to share a chocolate bar. Each of the squares has an integer on it.\n",
    "\n",
    "Lily decides to share a contiguous segment of the bar selected such that:\n",
    "\n",
    "The length of the segment matches Ron's birth month, and,\n",
    "The sum of the integers on the squares is equal to his birth day.\n",
    "Determine how many ways she can divide the chocolate\n",
    "\n"
   ]
  },
  {
   "cell_type": "code",
   "execution_count": 91,
   "metadata": {},
   "outputs": [
    {
     "data": {
      "text/plain": [
       "(2, 0, 1)"
      ]
     },
     "execution_count": 91,
     "metadata": {},
     "output_type": "execute_result"
    }
   ],
   "source": [
    "def birthday(s, d, m):\n",
    "    # Write your code here\n",
    "    res = 0\n",
    "    for i in range(len(s)):\n",
    "        if sum(s[i:i+m]) == d:\n",
    "            res += 1\n",
    "    return res \n",
    "\n",
    "birthday([1, 2, 1, 3, 2], 3,2), birthday([1,1,1,1,1,1],3, 2), birthday([4], 4,1)\n",
    "\n",
    "#2; 0; 1"
   ]
  },
  {
   "cell_type": "markdown",
   "metadata": {},
   "source": [
    "<h1> XOR Strings 2 </h1>\n",
    "\n",
    "In this challenge, the task is to debug the existing code to successfully execute all provided test files.\n",
    "\n",
    "Given two strings consisting of digits 0 and 1 only, find the XOR of the two strings.\n",
    "\n",
    "Debug the given function strings_xor to find the XOR of the two given strings appropriately."
   ]
  },
  {
   "cell_type": "code",
   "execution_count": 94,
   "metadata": {},
   "outputs": [
    {
     "data": {
      "text/plain": [
       "('11111', '1', '1011011000111000101100111110001000000101101100')"
      ]
     },
     "execution_count": 94,
     "metadata": {},
     "output_type": "execute_result"
    }
   ],
   "source": [
    "def strings_xor(s, t):\n",
    "    res = \"\"\n",
    "    for i in range(len(s)):\n",
    "        if s[i] == t[i]:\n",
    "            res += '0'\n",
    "        else:\n",
    "            res += '1'\n",
    "\n",
    "    return res\n",
    "\n",
    "\n",
    "strings_xor('01010','10101'), strings_xor('1','0'), strings_xor('1101010101001100101100111110100000110111111000','0110001101110100000000000000101000110010010100')\n",
    "#11111; 1; 1011011000111000101100111110001000000101101100"
   ]
  }
 ],
 "metadata": {
  "interpreter": {
   "hash": "aee8b7b246df8f9039afb4144a1f6fd8d2ca17a180786b69acc140d282b71a49"
  },
  "kernelspec": {
   "display_name": "Python 3.9.5 64-bit",
   "name": "python3"
  },
  "language_info": {
   "codemirror_mode": {
    "name": "ipython",
    "version": 3
   },
   "file_extension": ".py",
   "mimetype": "text/x-python",
   "name": "python",
   "nbconvert_exporter": "python",
   "pygments_lexer": "ipython3",
   "version": "3.9.5"
  },
  "orig_nbformat": 4
 },
 "nbformat": 4,
 "nbformat_minor": 2
}
