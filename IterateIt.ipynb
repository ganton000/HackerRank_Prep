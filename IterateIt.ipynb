{
 "cells": [
  {
   "cell_type": "code",
   "execution_count": 40,
   "metadata": {},
   "outputs": [
    {
     "data": {
      "text/plain": [
       "2"
      ]
     },
     "execution_count": 40,
     "metadata": {},
     "output_type": "execute_result"
    }
   ],
   "source": [
    "import math"
   ]
  },
  {
   "cell_type": "code",
   "execution_count": 82,
   "metadata": {},
   "outputs": [
    {
     "ename": "KeyboardInterrupt",
     "evalue": "",
     "output_type": "error",
     "traceback": [
      "\u001b[0;31m---------------------------------------------------------------------------\u001b[0m",
      "\u001b[0;31mKeyboardInterrupt\u001b[0m                         Traceback (most recent call last)",
      "\u001b[0;32m/var/folders/qp/cq_2m8bn7w574byl2650_yr00000gn/T/ipykernel_6720/1768002941.py\u001b[0m in \u001b[0;36m<module>\u001b[0;34m\u001b[0m\n\u001b[1;32m     27\u001b[0m \u001b[0;31m#iterateIt([5993, 44000, 50000]) #output is 110\u001b[0m\u001b[0;34m\u001b[0m\u001b[0;34m\u001b[0m\u001b[0m\n\u001b[1;32m     28\u001b[0m \u001b[0;34m\u001b[0m\u001b[0m\n\u001b[0;32m---> 29\u001b[0;31m \u001b[0miterateIt\u001b[0m\u001b[0;34m(\u001b[0m\u001b[0;34m[\u001b[0m\u001b[0;36m2\u001b[0m\u001b[0;34m,\u001b[0m \u001b[0;36m4\u001b[0m\u001b[0;34m,\u001b[0m \u001b[0;36m8\u001b[0m\u001b[0;34m,\u001b[0m \u001b[0;36m16\u001b[0m\u001b[0;34m,\u001b[0m \u001b[0;36m32\u001b[0m\u001b[0;34m,\u001b[0m \u001b[0;36m64\u001b[0m\u001b[0;34m,\u001b[0m \u001b[0;36m128\u001b[0m\u001b[0;34m,\u001b[0m \u001b[0;36m256\u001b[0m\u001b[0;34m,\u001b[0m \u001b[0;36m512\u001b[0m\u001b[0;34m,\u001b[0m \u001b[0;36m1024\u001b[0m\u001b[0;34m,\u001b[0m \u001b[0;36m2048\u001b[0m\u001b[0;34m,\u001b[0m \u001b[0;36m4096\u001b[0m\u001b[0;34m,\u001b[0m \u001b[0;36m8192\u001b[0m\u001b[0;34m,\u001b[0m \u001b[0;36m16384\u001b[0m\u001b[0;34m,\u001b[0m \u001b[0;36m32768\u001b[0m\u001b[0;34m]\u001b[0m\u001b[0;34m)\u001b[0m \u001b[0;31m#output is 32768\u001b[0m\u001b[0;34m\u001b[0m\u001b[0;34m\u001b[0m\u001b[0m\n\u001b[0m\u001b[1;32m     30\u001b[0m \u001b[0;34m\u001b[0m\u001b[0m\n\u001b[1;32m     31\u001b[0m \u001b[0;31m#iterateIt([1,117,49186])\u001b[0m\u001b[0;34m\u001b[0m\u001b[0;34m\u001b[0m\u001b[0m\n",
      "\u001b[0;32m/var/folders/qp/cq_2m8bn7w574byl2650_yr00000gn/T/ipykernel_6720/1768002941.py\u001b[0m in \u001b[0;36miterateIt\u001b[0;34m(A)\u001b[0m\n\u001b[1;32m      4\u001b[0m         \u001b[0;31m#print(len(A),A)\u001b[0m\u001b[0;34m\u001b[0m\u001b[0;34m\u001b[0m\u001b[0m\n\u001b[1;32m      5\u001b[0m         \u001b[0;31m#B = []\u001b[0m\u001b[0;34m\u001b[0m\u001b[0;34m\u001b[0m\u001b[0m\n\u001b[0;32m----> 6\u001b[0;31m         \u001b[0mB\u001b[0m \u001b[0;34m=\u001b[0m \u001b[0;34m{\u001b[0m\u001b[0mabs\u001b[0m\u001b[0;34m(\u001b[0m\u001b[0mx\u001b[0m\u001b[0;34m-\u001b[0m\u001b[0my\u001b[0m\u001b[0;34m)\u001b[0m \u001b[0;32mfor\u001b[0m \u001b[0mx\u001b[0m \u001b[0;32min\u001b[0m \u001b[0mA\u001b[0m \u001b[0;32mfor\u001b[0m \u001b[0my\u001b[0m \u001b[0;32min\u001b[0m \u001b[0mA\u001b[0m \u001b[0;32mif\u001b[0m \u001b[0mx\u001b[0m \u001b[0;34m!=\u001b[0m \u001b[0my\u001b[0m\u001b[0;34m}\u001b[0m\u001b[0;34m\u001b[0m\u001b[0;34m\u001b[0m\u001b[0m\n\u001b[0m\u001b[1;32m      7\u001b[0m         \u001b[0;31m#if max(A) == A[1]**(len(A)-1): return max(A)\u001b[0m\u001b[0;34m\u001b[0m\u001b[0;34m\u001b[0m\u001b[0m\n\u001b[1;32m      8\u001b[0m         \u001b[0;31m# if (max(A) - min(A) == (max(A) - 1)) & ((max(A) - 1) in A):\u001b[0m\u001b[0;34m\u001b[0m\u001b[0;34m\u001b[0m\u001b[0m\n",
      "\u001b[0;32m/var/folders/qp/cq_2m8bn7w574byl2650_yr00000gn/T/ipykernel_6720/1768002941.py\u001b[0m in \u001b[0;36m<setcomp>\u001b[0;34m(.0)\u001b[0m\n\u001b[1;32m      4\u001b[0m         \u001b[0;31m#print(len(A),A)\u001b[0m\u001b[0;34m\u001b[0m\u001b[0;34m\u001b[0m\u001b[0m\n\u001b[1;32m      5\u001b[0m         \u001b[0;31m#B = []\u001b[0m\u001b[0;34m\u001b[0m\u001b[0;34m\u001b[0m\u001b[0m\n\u001b[0;32m----> 6\u001b[0;31m         \u001b[0mB\u001b[0m \u001b[0;34m=\u001b[0m \u001b[0;34m{\u001b[0m\u001b[0mabs\u001b[0m\u001b[0;34m(\u001b[0m\u001b[0mx\u001b[0m\u001b[0;34m-\u001b[0m\u001b[0my\u001b[0m\u001b[0;34m)\u001b[0m \u001b[0;32mfor\u001b[0m \u001b[0mx\u001b[0m \u001b[0;32min\u001b[0m \u001b[0mA\u001b[0m \u001b[0;32mfor\u001b[0m \u001b[0my\u001b[0m \u001b[0;32min\u001b[0m \u001b[0mA\u001b[0m \u001b[0;32mif\u001b[0m \u001b[0mx\u001b[0m \u001b[0;34m!=\u001b[0m \u001b[0my\u001b[0m\u001b[0;34m}\u001b[0m\u001b[0;34m\u001b[0m\u001b[0;34m\u001b[0m\u001b[0m\n\u001b[0m\u001b[1;32m      7\u001b[0m         \u001b[0;31m#if max(A) == A[1]**(len(A)-1): return max(A)\u001b[0m\u001b[0;34m\u001b[0m\u001b[0;34m\u001b[0m\u001b[0m\n\u001b[1;32m      8\u001b[0m         \u001b[0;31m# if (max(A) - min(A) == (max(A) - 1)) & ((max(A) - 1) in A):\u001b[0m\u001b[0;34m\u001b[0m\u001b[0;34m\u001b[0m\u001b[0m\n",
      "\u001b[0;31mKeyboardInterrupt\u001b[0m: "
     ]
    }
   ],
   "source": [
    "def iterateIt(A):\n",
    "    rep = 0\n",
    "    while len(A) > 0:\n",
    "        #print(len(A),A)\n",
    "        #B = []\n",
    "        B = {abs(x-y) for x in A for y in A if x != y}\n",
    "        #if max(A) == A[1]**(len(A)-1): return max(A)\n",
    "        # if (max(A) - min(A) == (max(A) - 1)) & ((max(A) - 1) in A):\n",
    "        #     rep += max(A) + 1\n",
    "        #     return rep\n",
    "        if B == {1}: \n",
    "            rep += len(A)\n",
    "            return rep\n",
    "        elif len(B) == 1:\n",
    "            rep += max(A)//B.pop()\n",
    "            return rep\n",
    "        A = B\n",
    "        rep += 1\n",
    "\n",
    "    return rep\n",
    "\n",
    "\n",
    "\n",
    "\n",
    "#iterateIt([1,4,7,10,13,16,19,22,25,28,31,119,70]) #37//3 + 1\n",
    "#iterateIt([1,3,5,7,9,11,13,15,17,19,21,23,25,27]) ##27//2 + 1\n",
    "#iterateIt([5993, 44000, 50000]) #output is 110\n",
    "\n",
    "iterateIt([2, 4, 8, 16, 32, 64, 128, 256, 512, 1024, 2048, 4096, 8192, 16384, 32768]) #output is 32768\n",
    "\n",
    "#iterateIt([1,117,49186])\n"
   ]
  },
  {
   "cell_type": "code",
   "execution_count": 42,
   "metadata": {},
   "outputs": [
    {
     "name": "stdout",
     "output_type": "stream",
     "text": [
      "[(2, 2), (4, 4), (8, 8), (16, 16)]\n",
      "[(2, 3), (5, 9), (14, 27), (41, 81)]\n",
      "[(2, 4), (6, 16), (22, 64), (86, 256)]\n",
      "[(2, 5), (7, 25), (32, 125), (157, 625)]\n",
      "[(2, 6), (8, 36), (44, 216), (260, 1296)]\n"
     ]
    }
   ],
   "source": [
    "#Iterate It\n",
    "\n",
    "def iterateIt(A):\n",
    "    rep = 0\n",
    "    while len(A) > 0:\n",
    "        #print(len(A),A)\n",
    "        #B = []\n",
    "        B = {abs(x-y) for x in A for y in A if x != y}\n",
    "        #C = {x for x in A for y in A if x == y}\n",
    "        #print('Elements that are equal:',len(C), C)\n",
    "        A = B\n",
    "        rep += 1\n",
    "\n",
    "    return rep\n",
    "\n",
    "\n",
    "#iterateIt([1,2,4,6,8,10,12,14,16])\n",
    "#iterateIt([1,3,5,7,9,11,13,15,17,19,21,23,25,27])\n",
    "#iterateIt([1,3,4])\n",
    "#iterateIt([1,117,49186])\n",
    "#iterateIt([1,2,12,30,50,80,90,100,105,512])\n",
    "#iterateIt([1,2,4,8,16,32,64,128,256])\n",
    "#iterateIt([ 3**i for i in range(3)]), 3**2\n",
    "#iterateIt([ 4**i for i in range(6)]), 4**5\n",
    "\n",
    "powers_2, powers_3, powers_4, powers_5, powers_6 = [], [], [], [], []\n",
    "for i in range(2,6):\n",
    "    iter = [2**j for j in range(i)]\n",
    "    powers_2.append((iterateIt(iter), 2**(i-1)))\n",
    "    iter = [3**j for j in range(i)]\n",
    "    powers_3.append((iterateIt(iter), 3**(i-1)))\n",
    "    iter = [4**j for j in range(i)]\n",
    "    powers_4.append((iterateIt(iter), 4**(i-1)))\n",
    "    iter = [5**j for j in range(i)]\n",
    "    powers_5.append((iterateIt(iter), 5**(i-1)))\n",
    "    iter = [6**j for j in range(i)]\n",
    "    powers_6.append((iterateIt(iter), 6**(i-1)))\n",
    "\n",
    "\n",
    "print(powers_2) #res = max(powers_2)\n",
    "print(powers_3) #res = max(powers_3)//2 + 1\n",
    "print(powers_4) #res = max(powers_4)//3 + 1\n",
    "print(powers_5) #res = max(powers_5)//4 + 1\n",
    "print(powers_6) #res = max(powers_6)//5 + 1\n",
    "\n",
    "\n",
    "#Thus list of powers_i will have result max(powers_i)//(i-1) + 1\n",
    "\n",
    "#assert iterateIt([11**j for j in range(6)]) == max([11**j for j in range(6)])//10 +1\n"
   ]
  },
  {
   "cell_type": "code",
   "execution_count": 128,
   "metadata": {},
   "outputs": [
    {
     "name": "stdout",
     "output_type": "stream",
     "text": [
      "['1000000', '1', '10', '10000000', '100', '100000000', '1000000000', '10000000000', '1000', '100000000000', '1000000000000', '10000000000000', '10000', '100000000000000', '100000', '1000000000000000']\n",
      "0.0001080000000115433 0.0005760000000236687 False\n"
     ]
    }
   ],
   "source": [
    "import time\n",
    "\n",
    "\n",
    "A = {1,2, 4, 8, 16, 32, 64, 128, 256, 512, 1024, 2048, 4096, 8192, 16384, 32768}\n",
    "start = time.process_time() \n",
    "set(map(lambda x: x%list(A)[1] ,list(A)[1:]))\n",
    "end1 = time.process_time() - start \n",
    "start = time.process_time() \n",
    "print(list(map(lambda x: bin(x)[2:] , A)))\n",
    "end2 = time.process_time() - start \n",
    "\n",
    "print(end1, end2, end2<end1)"
   ]
  },
  {
   "cell_type": "code",
   "execution_count": null,
   "metadata": {},
   "outputs": [],
   "source": []
  }
 ],
 "metadata": {
  "interpreter": {
   "hash": "aee8b7b246df8f9039afb4144a1f6fd8d2ca17a180786b69acc140d282b71a49"
  },
  "kernelspec": {
   "display_name": "Python 3.9.9 64-bit",
   "language": "python",
   "name": "python3"
  },
  "language_info": {
   "codemirror_mode": {
    "name": "ipython",
    "version": 3
   },
   "file_extension": ".py",
   "mimetype": "text/x-python",
   "name": "python",
   "nbconvert_exporter": "python",
   "pygments_lexer": "ipython3",
   "version": "3.9.9"
  },
  "orig_nbformat": 4
 },
 "nbformat": 4,
 "nbformat_minor": 2
}
