{
 "cells": [
  {
   "cell_type": "code",
   "execution_count": 1,
   "metadata": {},
   "outputs": [],
   "source": [
    "import math"
   ]
  },
  {
   "cell_type": "code",
   "execution_count": 2,
   "metadata": {},
   "outputs": [
    {
     "data": {
      "text/plain": [
       "3"
      ]
     },
     "execution_count": 2,
     "metadata": {},
     "output_type": "execute_result"
    }
   ],
   "source": [
    "def palindromeIndex(s):\n",
    "    # Write your code here\n",
    "    if len(set(s)) == 1: return -1\n",
    "    if s[1:] == s[-2:]: return 0\n",
    "    res = s[0]\n",
    "    i = 1\n",
    "    while len(res) <= len(s):\n",
    "        if res == res[::-1]:\n",
    "            i += 1 \n",
    "            res += s[i]\n",
    "        else: return i\n",
    "\n",
    "palindromeIndex('bcbc')"
   ]
  },
  {
   "cell_type": "markdown",
   "metadata": {},
   "source": [
    "<h1> HackerRank 1 Month Preparation Week 2 Quiz </h1>"
   ]
  },
  {
   "cell_type": "markdown",
   "metadata": {},
   "source": [
    "Question 1"
   ]
  },
  {
   "cell_type": "code",
   "execution_count": 3,
   "metadata": {},
   "outputs": [
    {
     "name": "stdout",
     "output_type": "stream",
     "text": [
      "[2] [1, 1]\n",
      "{'a'} {'b', 'a'} {'b'}\n",
      "aa ba\n"
     ]
    },
    {
     "data": {
      "text/plain": [
       "0"
      ]
     },
     "execution_count": 3,
     "metadata": {},
     "output_type": "execute_result"
    }
   ],
   "source": [
    "s = 'aaab'\n",
    "s1 = 'quyjjdcgsvvsgcdjjyq'\n",
    "s2 = 'hgygsvlfcwnswtuhmyaljkqlqjjqlqkjlaymhutwsnwcwflvsgygh'\n",
    "\n",
    "def isPalindrome(s):\n",
    "    if s == s[::-1]: return 1\n",
    "    else: return 0\n",
    "\n",
    "def palindromeIndex(s):\n",
    "    # Write your code here\n",
    "    if (set(s) == 1) | (isPalindrome(s) == 1): return -1\n",
    "    len_str = len(s)\n",
    "    str1, str2 = s[:len_str//2], s[len_str//2:][::-1]\n",
    "    set1, set2 = set(str1), set(str2)\n",
    "    lst1, lst2 = list(map(str1.count,set(str1))), list(map(str2.count, set(str2)))\n",
    "    sum1, sum2 = sum(lst1), sum(lst2)\n",
    "    print(lst1, lst2)\n",
    "    print(set1, set2, set1.symmetric_difference(set2))\n",
    "    print(str1, str2)\n",
    "    count = 0\n",
    "    for x,y in zip(lst1, lst2):\n",
    "        if x < y: return len(s) - count #s.find(s[len(str1)+count])\n",
    "        if y < x: return count #count, s[count], len(str1), count, s.find(s[count])\n",
    "        count += 1\n",
    "\n",
    "\n",
    "palindromeIndex('aaab')\n",
    "#palindromeIndex(s2)"
   ]
  },
  {
   "cell_type": "markdown",
   "metadata": {},
   "source": [
    "Question 2"
   ]
  },
  {
   "cell_type": "code",
   "execution_count": 4,
   "metadata": {},
   "outputs": [],
   "source": [
    "def getTotalX(a, b):\n",
    "    # Write your code here\n",
    "    res = 0\n",
    "    factor_list = [ i for i in range(max(a),min(b)+1) if set(map(lambda x: i%x, a)) == {0}]\n",
    "\n",
    "    for i in factor_list:\n",
    "        if set(map(lambda x: x%i, b)) == {0}:\n",
    "            res += 1\n",
    "    return res"
   ]
  },
  {
   "cell_type": "markdown",
   "metadata": {},
   "source": [
    "Question 3"
   ]
  },
  {
   "cell_type": "code",
   "execution_count": 5,
   "metadata": {},
   "outputs": [],
   "source": [
    "def anagram(s):\n",
    "    # Write your code here\n",
    "    len_str = len(s)\n",
    "    if len_str%2==1: return -1\n",
    "    str1, str2 = s[:len_str//2], s[len_str//2:]\n",
    "    print(str1, str2)\n",
    "    if str1 == str2[::-1]: return 0\n",
    "    set1, set2 = set(str1), set(str2)\n",
    "    intersect = set1.intersection(set2)\n",
    "    if intersect == set(): return len_str//2 #if intersection is empty\n",
    "    else: \n",
    "        res = 0\n",
    "        for common_el in intersect:\n",
    "            res += min(str1.count(common_el), str2.count(common_el))\n",
    "        return min(len(str1)-res, len(str2)-res)\n",
    "\n",
    "#anagram('xaaxxbbbxx')\n",
    "#anagram('dnqaurlplofnrtmh')\n",
    "#anagram('xaxbbbxx')\n",
    "#anagram('mnop')\n"
   ]
  },
  {
   "cell_type": "markdown",
   "metadata": {},
   "source": [
    "<h1> Sherlock and the Valid String </h1>"
   ]
  },
  {
   "cell_type": "markdown",
   "metadata": {},
   "source": [
    "Sherlock considers a string to be valid if all characters of the string appear the same number of times. It is also valid if he can remove just $1$ character at $1$ index in the string, and the remaining characters will occur the same number of times. Given a string $s$, determine if it is valid. If so, return YES, otherwise return NO."
   ]
  },
  {
   "cell_type": "code",
   "execution_count": 7,
   "metadata": {},
   "outputs": [
    {
     "data": {
      "text/plain": [
       "('NO', 'NO', 'YES')"
      ]
     },
     "execution_count": 7,
     "metadata": {},
     "output_type": "execute_result"
    }
   ],
   "source": [
    "def isValid(s):\n",
    "    # Write your code here\n",
    "\n",
    "    freq = {i:0 for i in set(s)}\n",
    "    \n",
    "    for i in s:\n",
    "        freq[i] += 1\n",
    "\n",
    "    if len(set(freq.values())) == 1: return 'YES'\n",
    "    if len(set(freq.values())) >= 3: return 'NO'\n",
    "    else:\n",
    "        res = list(freq.values())\n",
    "        mx = max(res)\n",
    "        mn = min(res)\n",
    "        tot = sum(res)\n",
    "        n = len(res)\n",
    "        if (mn*n) + 1 != tot and (mx*(n-1)) + 1 != tot: \n",
    "            return 'NO'\n",
    "        return 'YES'\n",
    "\n",
    "\n",
    "\n",
    "isValid('aabbccddeefghi'), isValid('aabbcd'), isValid('abcdefghhgfedecba') #NO, NO, YES"
   ]
  },
  {
   "cell_type": "markdown",
   "metadata": {},
   "source": [
    "<h1> The Bomberman Game </h1>"
   ]
  },
  {
   "cell_type": "code",
   "execution_count": 8,
   "metadata": {},
   "outputs": [],
   "source": [
    "\n",
    "def BomberMan(n, grid):\n",
    "\n",
    "    def explode(arr):\n",
    "        newGrid = []\n",
    "        for i in range(len(arr)):\n",
    "            row = ''\n",
    "            for j in range(len(arr[0])):\n",
    "                current_cell = grid[i][j]\n",
    "                if current_cell == '0':\n",
    "                    newGrid[i][j] = '.'\n",
    "                    if i - 1 >= 0:\n",
    "                        newGrid[i-1][j] = '.'\n",
    "                    if i+1 <= len(arr) - 1:\n",
    "                        newGrid[i+1][j] = '.'\n",
    "                    if j-1 >= 0:\n",
    "                        newGrid[i][j-1] = '.'\n",
    "                    if j+1 <= len(arr[0]) - 1:\n",
    "                        newGrid[i][j+1] = '.'\n",
    "\n",
    "        return newGrid \n",
    "\n",
    "    if n == 1: return grid \n",
    "\n",
    "    elif n%2 == 0: \n",
    "        return [''.join(['0' for _ in range(len(grid[0]))]) for _ in range(len(grid))]\n",
    "    else: \n",
    "        if int(n/2)%2 == 1: return explode(grid)\n",
    "        else: explode(explode(grid))\n"
   ]
  },
  {
   "cell_type": "markdown",
   "metadata": {},
   "source": [
    "<h1> New Year Chaos </h1>\n",
    "\n",
    "It is New Year's Day and people are in line for the Wonderland rollercoaster ride. Each person wears a sticker indicating their initial position in the queue from $1$ to $n$. Any person can bribe the person directly in front of them to swap positions, but they still wear their original sticker. One person can bribe at most two others.\n",
    "\n",
    "Determine the minimum number of bribes that took place to get to a given queue order. Print the number of bribes, or, if anyone has bribed more than two people, print Too chaotic.\n",
    "\n",
    "<b>Example</b>\n",
    "\n",
    "$q= [1,2,3,5,4,6,7,8]$\n",
    "\n",
    "If person $5$ bribes person $4$, the queue will look like this: $1,2,3,5,4,6,7,8$. \n",
    "\n",
    "Only $1$ bribe is required. Print $1$.\n",
    "\n",
    "$q = [4,1,2,3]$\n",
    "\n",
    "Person $4$ had to bribe $3$ people to get to the current position. Print Too chaotic."
   ]
  },
  {
   "cell_type": "code",
   "execution_count": 9,
   "metadata": {},
   "outputs": [
    {
     "name": "stdout",
     "output_type": "stream",
     "text": [
      "3\n",
      "Too chaotic\n",
      "Too chaotic\n",
      "7\n",
      "4\n"
     ]
    },
    {
     "data": {
      "text/plain": [
       "(None, None)"
      ]
     },
     "execution_count": 9,
     "metadata": {},
     "output_type": "execute_result"
    }
   ],
   "source": [
    "def minimumBribes(q):\n",
    "    # Write your code here\n",
    "    \n",
    "    q = list(map(int, q.split()))\n",
    "\n",
    "    count = 0\n",
    "    total = 0\n",
    "\n",
    "    for i in range(len(q),0,-1):\n",
    "        for j in range(len(q)-1,-1,-1):\n",
    "            if q[j] != i:\n",
    "                count += 1\n",
    "                if count > 2:\n",
    "                    return print(\"Too chaotic\")\n",
    "            else:\n",
    "                total += count\n",
    "                count = 0\n",
    "                q.pop(j)\n",
    "                break\n",
    "    print(total)\n",
    "\n",
    "\n",
    "\n",
    "minimumBribes('2 1 5 3 4'), minimumBribes('2 5 1 3 4'), minimumBribes('5 1 2 3 7 8 6 4'),\n",
    "minimumBribes('1 2 5 3 7 8 6 4'), minimumBribes('1 2 5 3 4 7 8 6') #3, Too chaotic. Too chaotic, 7, 4\n",
    "\n"
   ]
  },
  {
   "cell_type": "markdown",
   "metadata": {},
   "source": [
    "<h1> Climbing the Leaderboard </h1>\n",
    "\n",
    "An arcade game player wants to climb to the top of the leaderboard and track their ranking. The game uses Dense Ranking, so its leaderboard works like this:\n",
    "\n",
    "1. The player with the highest score is ranked number $1$ on the leaderboard.\n",
    "\n",
    "2. Players who have equal scores receive the same ranking number, and the next player(s) receive the immediately following ranking number.\n",
    "\n",
    "<b> Example </b>\n",
    "\n",
    "$ranked = [100,90,90,80]$\n",
    "$player = [70,80,105]$\n",
    "\n",
    "The ranked players will have ranks $1,2,2,$ and $3$, respectively. If the player's scores are $70, 80$ and $105$, their rankings after each game are $4^{th}, 3^{rd},$ and $1^{st}$. Return $[4,3,1]$.\n"
   ]
  },
  {
   "cell_type": "code",
   "execution_count": 54,
   "metadata": {},
   "outputs": [
    {
     "data": {
      "text/plain": [
       "([4, 3, 1], [6, 4, 2, 1])"
      ]
     },
     "execution_count": 54,
     "metadata": {},
     "output_type": "execute_result"
    }
   ],
   "source": [
    "\n",
    "def climbingLeaderboard(ranked, player):\n",
    "\n",
    "    rank_scores = sorted(list(set(ranked)), reverse=True)\n",
    "    res = []\n",
    "\n",
    "    i = len(rank_scores) - 1\n",
    "    for score in player:\n",
    "        while i >= 0:\n",
    "            dense_rank = i+1\n",
    "            if score < rank_scores[i]:\n",
    "                res.append(dense_rank + 1)\n",
    "                break\n",
    "            elif score == rank_scores[i]:\n",
    "                res.append(dense_rank)\n",
    "                break\n",
    "            elif score > rank_scores[0]:\n",
    "                res.append(1)\n",
    "                break \n",
    "            elif score > rank_scores[i]:\n",
    "                i -= 1\n",
    "    return res \n",
    "\n",
    "\n",
    "\n",
    "\n",
    "climbingLeaderboard([100,90,90,80],[70,80,105]), climbingLeaderboard([100,100,50,40,40,20,10],[5,25,50,120])\n",
    "# [4,3,1]; [6,4,2,1]"
   ]
  },
  {
   "cell_type": "markdown",
   "metadata": {},
   "source": [
    "<h1> Reverse a linked list </h1>\n",
    "Given the pointer to the head node of a linked list, change the next pointers of the nodes so that their order is reversed. The head pointer given may be null meaning that the initial list is empty."
   ]
  },
  {
   "cell_type": "code",
   "execution_count": null,
   "metadata": {},
   "outputs": [],
   "source": [
    "\n",
    "def reverse(llist):\n",
    "\n",
    "    "
   ]
  },
  {
   "cell_type": "markdown",
   "metadata": {},
   "source": [
    "<h1> Reverse a doubly linked list </h1>"
   ]
  },
  {
   "cell_type": "code",
   "execution_count": null,
   "metadata": {},
   "outputs": [],
   "source": []
  },
  {
   "cell_type": "markdown",
   "metadata": {},
   "source": [
    "<h1> Merge two sorted linked lists </h1>"
   ]
  },
  {
   "cell_type": "code",
   "execution_count": null,
   "metadata": {},
   "outputs": [],
   "source": []
  },
  {
   "cell_type": "markdown",
   "metadata": {},
   "source": [
    "<h1> Insert a node at a specific position in a linked list </h1>"
   ]
  },
  {
   "cell_type": "code",
   "execution_count": null,
   "metadata": {},
   "outputs": [],
   "source": []
  },
  {
   "cell_type": "markdown",
   "metadata": {},
   "source": []
  },
  {
   "cell_type": "markdown",
   "metadata": {},
   "source": []
  }
 ],
 "metadata": {
  "interpreter": {
   "hash": "aee8b7b246df8f9039afb4144a1f6fd8d2ca17a180786b69acc140d282b71a49"
  },
  "kernelspec": {
   "display_name": "Python 3.9.5 64-bit",
   "name": "python3"
  },
  "language_info": {
   "codemirror_mode": {
    "name": "ipython",
    "version": 3
   },
   "file_extension": ".py",
   "mimetype": "text/x-python",
   "name": "python",
   "nbconvert_exporter": "python",
   "pygments_lexer": "ipython3",
   "version": "3.9.5"
  },
  "orig_nbformat": 4
 },
 "nbformat": 4,
 "nbformat_minor": 2
}
