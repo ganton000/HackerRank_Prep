{
 "cells": [
  {
   "cell_type": "code",
   "execution_count": 1025,
   "metadata": {},
   "outputs": [],
   "source": [
    "import math"
   ]
  },
  {
   "cell_type": "code",
   "execution_count": 1026,
   "metadata": {},
   "outputs": [
    {
     "data": {
      "text/plain": [
       "3"
      ]
     },
     "execution_count": 1026,
     "metadata": {},
     "output_type": "execute_result"
    }
   ],
   "source": [
    "def palindromeIndex(s):\n",
    "    # Write your code here\n",
    "    if len(set(s)) == 1: return -1\n",
    "    if s[1:] == s[-2:]: return 0\n",
    "    res = s[0]\n",
    "    i = 1\n",
    "    while len(res) <= len(s):\n",
    "        if res == res[::-1]:\n",
    "            i += 1 \n",
    "            res += s[i]\n",
    "        else: return i\n",
    "\n",
    "palindromeIndex('bcbc')"
   ]
  },
  {
   "cell_type": "markdown",
   "metadata": {},
   "source": [
    "<h1> HackerRank 1 Month Preparation Week 2 Quiz </h1>"
   ]
  },
  {
   "cell_type": "markdown",
   "metadata": {},
   "source": [
    "Question 1"
   ]
  },
  {
   "cell_type": "code",
   "execution_count": 1027,
   "metadata": {},
   "outputs": [
    {
     "name": "stdout",
     "output_type": "stream",
     "text": [
      "[2] [1, 1]\n",
      "{'a'} {'b', 'a'} {'b'}\n",
      "aa ba\n"
     ]
    },
    {
     "data": {
      "text/plain": [
       "0"
      ]
     },
     "execution_count": 1027,
     "metadata": {},
     "output_type": "execute_result"
    }
   ],
   "source": [
    "s = 'aaab'\n",
    "s1 = 'quyjjdcgsvvsgcdjjyq'\n",
    "s2 = 'hgygsvlfcwnswtuhmyaljkqlqjjqlqkjlaymhutwsnwcwflvsgygh'\n",
    "\n",
    "def isPalindrome(s):\n",
    "    if s == s[::-1]: return 1\n",
    "    else: return 0\n",
    "\n",
    "def palindromeIndex(s):\n",
    "    # Write your code here\n",
    "    if (set(s) == 1) | (isPalindrome(s) == 1): return -1\n",
    "    len_str = len(s)\n",
    "    str1, str2 = s[:len_str//2], s[len_str//2:][::-1]\n",
    "    set1, set2 = set(str1), set(str2)\n",
    "    lst1, lst2 = list(map(str1.count,set(str1))), list(map(str2.count, set(str2)))\n",
    "    sum1, sum2 = sum(lst1), sum(lst2)\n",
    "    print(lst1, lst2)\n",
    "    print(set1, set2, set1.symmetric_difference(set2))\n",
    "    print(str1, str2)\n",
    "    count = 0\n",
    "    for x,y in zip(lst1, lst2):\n",
    "        if x < y: return len(s) - count #s.find(s[len(str1)+count])\n",
    "        if y < x: return count #count, s[count], len(str1), count, s.find(s[count])\n",
    "        count += 1\n",
    "\n",
    "\n",
    "palindromeIndex('aaab')\n",
    "#palindromeIndex(s2)"
   ]
  },
  {
   "cell_type": "markdown",
   "metadata": {},
   "source": [
    "Question 2"
   ]
  },
  {
   "cell_type": "code",
   "execution_count": 1028,
   "metadata": {},
   "outputs": [],
   "source": [
    "def getTotalX(a, b):\n",
    "    # Write your code here\n",
    "    res = 0\n",
    "    factor_list = [ i for i in range(max(a),min(b)+1) if set(map(lambda x: i%x, a)) == {0}]\n",
    "\n",
    "    for i in factor_list:\n",
    "        if set(map(lambda x: x%i, b)) == {0}:\n",
    "            res += 1\n",
    "    return res"
   ]
  },
  {
   "cell_type": "markdown",
   "metadata": {},
   "source": [
    "Question 3"
   ]
  },
  {
   "cell_type": "code",
   "execution_count": 1029,
   "metadata": {},
   "outputs": [],
   "source": [
    "def anagram(s):\n",
    "    # Write your code here\n",
    "    len_str = len(s)\n",
    "    if len_str%2==1: return -1\n",
    "    str1, str2 = s[:len_str//2], s[len_str//2:]\n",
    "    print(str1, str2)\n",
    "    if str1 == str2[::-1]: return 0\n",
    "    set1, set2 = set(str1), set(str2)\n",
    "    intersect = set1.intersection(set2)\n",
    "    if intersect == set(): return len_str//2 #if intersection is empty\n",
    "    else: \n",
    "        res = 0\n",
    "        for common_el in intersect:\n",
    "            res += min(str1.count(common_el), str2.count(common_el))\n",
    "        return min(len(str1)-res, len(str2)-res)\n",
    "\n",
    "#anagram('xaaxxbbbxx')\n",
    "#anagram('dnqaurlplofnrtmh')\n",
    "#anagram('xaxbbbxx')\n",
    "#anagram('mnop')\n"
   ]
  },
  {
   "cell_type": "markdown",
   "metadata": {},
   "source": [
    "<h1> Sherlock and the Valid String </h1>"
   ]
  },
  {
   "cell_type": "markdown",
   "metadata": {},
   "source": [
    "Sherlock considers a string to be valid if all characters of the string appear the same number of times. It is also valid if he can remove just $1$ character at $1$ index in the string, and the remaining characters will occur the same number of times. Given a string $s$, determine if it is valid. If so, return YES, otherwise return NO."
   ]
  },
  {
   "cell_type": "code",
   "execution_count": 1030,
   "metadata": {},
   "outputs": [
    {
     "data": {
      "text/plain": [
       "('NO', 'NO', 'YES')"
      ]
     },
     "execution_count": 1030,
     "metadata": {},
     "output_type": "execute_result"
    }
   ],
   "source": [
    "def isValid(s):\n",
    "    # Write your code here\n",
    "\n",
    "    freq = {i:0 for i in set(s)}\n",
    "    \n",
    "    for i in s:\n",
    "        freq[i] += 1\n",
    "\n",
    "    if len(set(freq.values())) == 1: return 'YES'\n",
    "    if len(set(freq.values())) >= 3: return 'NO'\n",
    "    else:\n",
    "        res = list(freq.values())\n",
    "        mx = max(res)\n",
    "        mn = min(res)\n",
    "        tot = sum(res)\n",
    "        n = len(res)\n",
    "        if (mn*n) + 1 != tot and (mx*(n-1)) + 1 != tot: \n",
    "            return 'NO'\n",
    "        return 'YES'\n",
    "\n",
    "\n",
    "\n",
    "isValid('aabbccddeefghi'), isValid('aabbcd'), isValid('abcdefghhgfedecba') #NO, NO, YES"
   ]
  },
  {
   "cell_type": "markdown",
   "metadata": {},
   "source": [
    "<h1> The Bomberman Game </h1>"
   ]
  },
  {
   "cell_type": "code",
   "execution_count": 1031,
   "metadata": {},
   "outputs": [],
   "source": [
    "\n",
    "def BomberMan(n, grid):\n",
    "\n",
    "    def explode(arr):\n",
    "        newGrid = []\n",
    "        for i in range(len(arr)):\n",
    "            row = ''\n",
    "            for j in range(len(arr[0])):\n",
    "                current_cell = grid[i][j]\n",
    "                if current_cell == '0':\n",
    "                    newGrid[i][j] = '.'\n",
    "                    if i - 1 >= 0:\n",
    "                        newGrid[i-1][j] = '.'\n",
    "                    if i+1 <= len(arr) - 1:\n",
    "                        newGrid[i+1][j] = '.'\n",
    "                    if j-1 >= 0:\n",
    "                        newGrid[i][j-1] = '.'\n",
    "                    if j+1 <= len(arr[0]) - 1:\n",
    "                        newGrid[i][j+1] = '.'\n",
    "\n",
    "        return newGrid \n",
    "\n",
    "    if n == 1: return grid \n",
    "\n",
    "    elif n%2 == 0: \n",
    "        return [''.join(['0' for _ in range(len(grid[0]))]) for _ in range(len(grid))]\n",
    "    else: \n",
    "        if int(n/2)%2 == 1: return explode(grid)\n",
    "        else: explode(explode(grid))\n"
   ]
  },
  {
   "cell_type": "markdown",
   "metadata": {},
   "source": [
    "<h1> New Year Chaos </h1>\n",
    "\n",
    "It is New Year's Day and people are in line for the Wonderland rollercoaster ride. Each person wears a sticker indicating their initial position in the queue from $1$ to $n$. Any person can bribe the person directly in front of them to swap positions, but they still wear their original sticker. One person can bribe at most two others.\n",
    "\n",
    "Determine the minimum number of bribes that took place to get to a given queue order. Print the number of bribes, or, if anyone has bribed more than two people, print Too chaotic.\n",
    "\n",
    "<b>Example</b>\n",
    "\n",
    "$q= [1,2,3,5,4,6,7,8]$\n",
    "\n",
    "If person $5$ bribes person $4$, the queue will look like this: $1,2,3,5,4,6,7,8$. \n",
    "\n",
    "Only $1$ bribe is required. Print $1$.\n",
    "\n",
    "$q = [4,1,2,3]$\n",
    "\n",
    "Person $4$ had to bribe $3$ people to get to the current position. Print Too chaotic."
   ]
  },
  {
   "cell_type": "code",
   "execution_count": 1032,
   "metadata": {},
   "outputs": [
    {
     "name": "stdout",
     "output_type": "stream",
     "text": [
      "3\n",
      "Too chaotic\n",
      "Too chaotic\n",
      "7\n",
      "4\n"
     ]
    },
    {
     "data": {
      "text/plain": [
       "(None, None)"
      ]
     },
     "execution_count": 1032,
     "metadata": {},
     "output_type": "execute_result"
    }
   ],
   "source": [
    "def minimumBribes(q):\n",
    "    # Write your code here\n",
    "    \n",
    "    q = list(map(int, q.split()))\n",
    "\n",
    "    count = 0\n",
    "    total = 0\n",
    "\n",
    "    for i in range(len(q),0,-1):\n",
    "        for j in range(len(q)-1,-1,-1):\n",
    "            if q[j] != i:\n",
    "                count += 1\n",
    "                if count > 2:\n",
    "                    return print(\"Too chaotic\")\n",
    "            else:\n",
    "                total += count\n",
    "                count = 0\n",
    "                q.pop(j)\n",
    "                break\n",
    "    print(total)\n",
    "\n",
    "\n",
    "\n",
    "minimumBribes('2 1 5 3 4'), minimumBribes('2 5 1 3 4'), minimumBribes('5 1 2 3 7 8 6 4'),\n",
    "minimumBribes('1 2 5 3 7 8 6 4'), minimumBribes('1 2 5 3 4 7 8 6') #3, Too chaotic. Too chaotic, 7, 4\n",
    "\n"
   ]
  },
  {
   "cell_type": "markdown",
   "metadata": {},
   "source": [
    "<h1> Climbing the Leaderboard </h1>\n",
    "\n",
    "An arcade game player wants to climb to the top of the leaderboard and track their ranking. The game uses Dense Ranking, so its leaderboard works like this:\n",
    "\n",
    "1. The player with the highest score is ranked number $1$ on the leaderboard.\n",
    "\n",
    "2. Players who have equal scores receive the same ranking number, and the next player(s) receive the immediately following ranking number.\n",
    "\n",
    "<b> Example </b>\n",
    "\n",
    "$ranked = [100,90,90,80]$\n",
    "$player = [70,80,105]$\n",
    "\n",
    "The ranked players will have ranks $1,2,2,$ and $3$, respectively. If the player's scores are $70, 80$ and $105$, their rankings after each game are $4^{th}, 3^{rd},$ and $1^{st}$. Return $[4,3,1]$.\n"
   ]
  },
  {
   "cell_type": "code",
   "execution_count": 1033,
   "metadata": {},
   "outputs": [
    {
     "data": {
      "text/plain": [
       "([4, 3, 1], [6, 4, 2, 1])"
      ]
     },
     "execution_count": 1033,
     "metadata": {},
     "output_type": "execute_result"
    }
   ],
   "source": [
    "\n",
    "def climbingLeaderboard(ranked, player):\n",
    "\n",
    "    rank_scores = sorted(list(set(ranked)), reverse=True)\n",
    "    res = []\n",
    "\n",
    "    i = len(rank_scores) - 1\n",
    "    for score in player:\n",
    "        while i >= 0:\n",
    "            dense_rank = i+1\n",
    "            if score < rank_scores[i]:\n",
    "                res.append(dense_rank + 1)\n",
    "                break\n",
    "            elif score == rank_scores[i]:\n",
    "                res.append(dense_rank)\n",
    "                break\n",
    "            elif score > rank_scores[0]:\n",
    "                res.append(1)\n",
    "                break \n",
    "            elif score > rank_scores[i]:\n",
    "                i -= 1\n",
    "    return res \n",
    "\n",
    "\n",
    "\n",
    "\n",
    "climbingLeaderboard([100,90,90,80],[70,80,105]), climbingLeaderboard([100,100,50,40,40,20,10],[5,25,50,120])\n",
    "# [4,3,1]; [6,4,2,1]"
   ]
  },
  {
   "cell_type": "markdown",
   "metadata": {},
   "source": [
    "<h1> Reverse a linked list </h1>\n",
    "Given the pointer to the head node of a linked list, change the next pointers of the nodes so that their order is reversed. The head pointer given may be null meaning that the initial list is empty."
   ]
  },
  {
   "cell_type": "code",
   "execution_count": 1034,
   "metadata": {},
   "outputs": [
    {
     "name": "stdout",
     "output_type": "stream",
     "text": [
      "banana-->mango-->grapes-->orange-->\n",
      "banana-->mango-->apple-->grapes-->orange-->\n",
      "banana-->mango-->apple-->grapes-->\n",
      "mango-->apple-->grapes-->\n"
     ]
    }
   ],
   "source": [
    "\n",
    "# import math\n",
    "# import os\n",
    "# import random\n",
    "# import re\n",
    "# import sys\n",
    "\n",
    "# class SinglyLinkedListNode:\n",
    "#     def __init__(self, node_data):\n",
    "#         self.data = node_data\n",
    "#         self.next = None \n",
    "\n",
    "# class SinglyLinkedList:\n",
    "    \n",
    "#     def __init__(self):\n",
    "#         self.head = None\n",
    "#         self.tail = None\n",
    "\n",
    "#     def insert_node(self, node_data):\n",
    "#         node = SinglyLinkedListNode(node_data)\n",
    "\n",
    "#         if not self.head:\n",
    "#             self.head = node\n",
    "#         else:\n",
    "#             self.tail.next = node\n",
    "\n",
    "#         self.tail = node \n",
    "\n",
    "#     def print_singly_linked_list(node, sep, fptr):\n",
    "#         while node:\n",
    "#             fptr.write(str(node.data))\n",
    "\n",
    "#             node = node.next\n",
    "\n",
    "#             if node:\n",
    "#                 fptr.write(sep)\n",
    "\n",
    "\n",
    "#######\n",
    "\n",
    "class Node:\n",
    "    def __init__(self, data=None, next=None):\n",
    "        self.data = data\n",
    "        self.next = next \n",
    "\n",
    "class LinkedList:\n",
    "    def __init__(self):\n",
    "        self.head = None\n",
    "\n",
    "    def insert_at_beginning(self, data):\n",
    "        node = Node(data, self.head)\n",
    "        self.head = node\n",
    "\n",
    "    def print(self):\n",
    "        if self.head is None:\n",
    "            print('Linked list is empty')\n",
    "\n",
    "        itr = self.head \n",
    "        llstr = ''\n",
    "        while itr:\n",
    "            llstr += str(itr.data) + \"-->\"\n",
    "            itr = itr.next\n",
    "\n",
    "        print(llstr)\n",
    "\n",
    "    def insert_at_end(self, data):\n",
    "        if self.head is None:\n",
    "            self.head = Node(data, None)\n",
    "            return \n",
    "        \n",
    "        itr = self.head\n",
    "        while itr.next:\n",
    "            itr = itr.next\n",
    "        \n",
    "        itr.next = Node(data, None)\n",
    "\n",
    "    def insert_values(self, data_list):\n",
    "        self.head = None\n",
    "        for data in data_list:\n",
    "            self.insert_at_end(data)\n",
    "    \n",
    "    def get_length(self):\n",
    "        count = 0\n",
    "        itr = self.head\n",
    "        while itr:\n",
    "            count +=1 \n",
    "            itr = itr.next\n",
    "        return count\n",
    "\n",
    "    def remove_at(self, index):\n",
    "        if (index < 0) or (index >=self.get_length()):\n",
    "            raise Exception('Invalid index')\n",
    "\n",
    "        if index==0:\n",
    "            self.head = self.head.next\n",
    "            return \n",
    "        \n",
    "        count = 0\n",
    "        itr = self.head\n",
    "        while itr:\n",
    "            if count == index - 1:\n",
    "                itr.next = itr.next.next\n",
    "                break\n",
    "\n",
    "            itr = itr.next\n",
    "            count += 1\n",
    "        \n",
    "    def insert_at(self, index, data):\n",
    "        if index<0 or index>self.get_length():\n",
    "            raise Exception('Invalid Index')\n",
    "\n",
    "        if index == 0:\n",
    "            self.insert_at_beginning(data)\n",
    "            return\n",
    "        \n",
    "        count = 0\n",
    "        itr = self.head\n",
    "        while itr:\n",
    "            if count == index -1:\n",
    "                node = Node(data, itr.next)\n",
    "                itr.next = node\n",
    "                break\n",
    "\n",
    "            itr = itr.next\n",
    "            count += 1\n",
    "\n",
    "    def insert_after_value(self, data_after, data_to_insert):\n",
    "        if self.head is None:\n",
    "            return\n",
    "\n",
    "        if data_after == self.head.data:\n",
    "            self.head.next = Node(data_to_insert, self.head.next)\n",
    "            return\n",
    "        \n",
    "        itr = self.head\n",
    "        while itr:\n",
    "            itr = itr.next\n",
    "            if data_after == itr.data:\n",
    "                itr.next = Node(data_to_insert, itr.next)\n",
    "                break\n",
    "        \n",
    "\n",
    "    def remove_by_value(self, data):\n",
    "        if self.head is None:\n",
    "            return\n",
    "\n",
    "        if self.head.data == data:\n",
    "            self.head = self.head.next\n",
    "            return\n",
    "        \n",
    "        itr = self.head\n",
    "        while itr.next:\n",
    "            if itr.next.data == data:\n",
    "                itr.next = itr.next.next\n",
    "                break\n",
    "            itr = itr.next\n",
    "                \n",
    "\n",
    "\n",
    "\n",
    "if __name__ == '__main__':\n",
    "    # ll = LinkedList()\n",
    "    # ll.insert_values(['banana','mango','grapes','orange'])\n",
    "    # ll.print()\n",
    "    # ll.remove_at(2)\n",
    "    # ll.print()\n",
    "    # ll.insert_at(0, 'figs')\n",
    "    # ll.print()\n",
    "    # ll.insert_at(0, 'pineapple')\n",
    "    # ll.print()\n",
    "    # ll.insert_at(3,'dragonfruit')\n",
    "    # ll.print()\n",
    "    # print('length:', ll.get_length())\n",
    "    ll = LinkedList()\n",
    "    ll.insert_values(['banana','mango','grapes','orange'])\n",
    "    ll.print()\n",
    "    ll.insert_after_value('mango','apple')\n",
    "    ll.print()\n",
    "    ll.remove_by_value('orange')\n",
    "    ll.print()\n",
    "    ll.remove_by_value('banana')\n",
    "    ll.print()\n",
    "\n",
    "#Solution to hackerrank LList:\n",
    "def reverse(head):\n",
    "    next = None\n",
    "    while head:\n",
    "        temp = head.next\n",
    "        head.next = next \n",
    "        next = head \n",
    "        head = temp\n",
    "    return next \n",
    "\n",
    "\n",
    "\n"
   ]
  },
  {
   "cell_type": "markdown",
   "metadata": {},
   "source": [
    "<h1> Reverse a doubly linked list </h1>\n",
    "\n",
    "Given the pointer to the head node of a doubly linked list, reverse the order of the nodes in place. That is, change the next and prev pointers of the nodes so that the direction of the list is reversed. Return a reference to the head node of the reversed list.\n",
    "\n",
    "Note: The head node might be NULL to indicate that the list is empty.\n",
    "\n"
   ]
  },
  {
   "cell_type": "code",
   "execution_count": 1035,
   "metadata": {},
   "outputs": [],
   "source": [
    "def reverse(llist):\n",
    "    current_node = llist\n",
    "    previous_node = None\n",
    "    for i in range(llist_count):\n",
    "        next_node = current_node.next \n",
    "        current_node.next = previous_node\n",
    "        current_node.prev = next_node \n",
    "        previous_node = current_node \n",
    "        current_node = next_node\n",
    "    return previous_node\n",
    "    "
   ]
  },
  {
   "cell_type": "markdown",
   "metadata": {},
   "source": [
    "<h1> Merge two sorted linked lists </h1>"
   ]
  },
  {
   "cell_type": "code",
   "execution_count": null,
   "metadata": {},
   "outputs": [],
   "source": []
  },
  {
   "cell_type": "markdown",
   "metadata": {},
   "source": [
    "<h1> Insert a node at a specific position in a linked list </h1>\n",
    "Given the pointer to the head node of a linked list and an integer to insert at a certain position, create a new node with the given integer as its <b>data</b> attribute, insert this node at the desired position and return the head node.\n",
    "\n",
    "A position of 0 indicates head, a position of 1 indicates one node away from the head and so on. The head pointer given may be null meaning that the initial list is empty."
   ]
  },
  {
   "cell_type": "code",
   "execution_count": null,
   "metadata": {},
   "outputs": [],
   "source": []
  },
  {
   "cell_type": "markdown",
   "metadata": {},
   "source": [
    "<h1> Ice Cream Parlor </h1>\n",
    "\n",
    "Two friends like to pool their money and go to the ice cream parlor. They always choose two distinct flavors and they spend all of their money.\n",
    "\n",
    "Given a list of prices for the flavors of ice cream, select the two that will cost all of the money they have.\n",
    "\n",
    "<b>Example.</b>  \n",
    "\n",
    "$m = 6, cost = [1,3,4,5,6]$\n",
    "\n",
    "The two flavors that cost $1$ and $5$ meet the criteria. Using $1$-based indexing, they are at indices $1$ and $4$."
   ]
  },
  {
   "cell_type": "code",
   "execution_count": 1036,
   "metadata": {},
   "outputs": [
    {
     "data": {
      "text/plain": [
       "('1 4', '1 2', '3 4', '2 3')"
      ]
     },
     "execution_count": 1036,
     "metadata": {},
     "output_type": "execute_result"
    }
   ],
   "source": [
    "# def icecreamParlor(m, arr):\n",
    "\n",
    "#     for i in range(len(arr)):\n",
    "#         if arr[i] < m:\n",
    "#             temp = m - arr[i]\n",
    "#             if (temp in arr) & (temp != arr[i]):\n",
    "#                 return '{} {}'.format(i+1, arr.index(temp)+1)\n",
    "#             elif temp in arr:\n",
    "#                 return '{} {}'.format(i+1, arr.index(temp, arr.index(temp)+1)+1)\n",
    "#             else:\n",
    "#                 continue\n",
    "\n",
    "def icecreamParlor(m, arr):\n",
    "    temp_dict = {}\n",
    "    for i in range(len(arr)):\n",
    "        if arr[i] in temp_dict:\n",
    "            return '{} {}'.format(temp_dict[arr[i]] +1, i+1)\n",
    "        else:\n",
    "            diff = m - arr[i]\n",
    "            temp_dict[diff] = i\n",
    "\n",
    "#second solution has better run-time\n",
    "\n",
    "\n",
    "icecreamParlor(6, [1,3,4,5,6]), icecreamParlor(4, [2,2,4,3]), icecreamParlor(8, [1,3,4,4,6,8]), icecreamParlor(100, [5,75,25])\n",
    "\n",
    "#1 4; 1 2; 3 4; 2 3"
   ]
  },
  {
   "cell_type": "markdown",
   "metadata": {},
   "source": [
    "<h1> Queue using Two Stacks </h1>"
   ]
  },
  {
   "cell_type": "code",
   "execution_count": null,
   "metadata": {},
   "outputs": [],
   "source": []
  },
  {
   "cell_type": "markdown",
   "metadata": {},
   "source": [
    "<h1> Balanced Brackets </h1>\n",
    "\n",
    "A bracket is considered to be any of the following characters: (,), {,} [, or ].\n",
    "\n",
    "Two brackets are considered to be a matched pair if the opening bracket occurs to the left of a closing bracket of the exact same type. There are three types of matched pairs of brackets: [], {} and ().\n",
    "\n",
    "A matching pair of brackets is not balanced if the set of brackets it encloses are not matched, i.e. {[(])} is not balanced because the contents between {} are not balanced. The pair of square brackets encloses a single, unbalanced opening bracket, (, and the pair of parenthesis encloses a single, unbalanced closing quare bracket ].\n",
    "\n",
    "By this logic, we say a sequence of brackets is balanced if the following conditions are met:\n",
    "\n",
    "1. It contains no unmatched brackets\n",
    "2. The subset of brackets enclosed within the confines of a matched pair of brackets is also a matched pair of brackets.\n",
    "\n",
    "Given $n$ strings of brackets, determine whether each sequence of brackets is balanced. If a string is balanced, return YES. Otherwise, return NO."
   ]
  },
  {
   "cell_type": "code",
   "execution_count": 1037,
   "metadata": {},
   "outputs": [
    {
     "name": "stdout",
     "output_type": "stream",
     "text": [
      "YES\n",
      "YES\n",
      "NO\n",
      "0.0004659999999887532\n"
     ]
    }
   ],
   "source": [
    "import time \n",
    "\n",
    "\n",
    "\n",
    "def isBalanced(s):\n",
    "\n",
    "    if len(s)%2 == 1: return print('NO')\n",
    "    \n",
    "    stk = []\n",
    "    for i in range(len(s)):\n",
    "        if s[i] in ['{', '(', '[']: stk.append(s[i])\n",
    "        elif stk == []: return print('NO')\n",
    "        else:\n",
    "            res = ord(s[i]) - ord(stk.pop())\n",
    "            if res == 2 or res == 1: continue\n",
    "            else: return print('NO')\n",
    "\n",
    "    return print('YES') if not stk else print('NO')\n",
    "\n",
    "    \n",
    "\n",
    "##Attempt to use without Stack##\n",
    "\n",
    "# for i in range(len(s)//2):\n",
    "#     res = ord(s[-(i+1)]) - ord(s[i])\n",
    "#     print(res, s[-(i+1)], s[i])\n",
    "\n",
    "#     if res == 1 or res == 2: continue\n",
    "#     else: return 'NO'\n",
    "\n",
    "# return 'YES'\n",
    "\n",
    "#print(ord('{'), ord('}'), ord('['), ord(']'), ord('('), ord(')'))\n",
    "\n",
    "start = time.process_time()\n",
    "#isBalanced('{[()]}'), isBalanced('{{[[(())]]}}'), isBalanced('{[(])}'), isBalanced('{{)[](}}')\n",
    "isBalanced('{(([])[])[]}'), isBalanced('({[]})'),isBalanced('][(]}})(')\n",
    "print(time.process_time() - start)\n",
    "\n",
    "#YES; YES; NO; NO; \n",
    "#YES; YES; NO"
   ]
  },
  {
   "cell_type": "code",
   "execution_count": 1038,
   "metadata": {},
   "outputs": [
    {
     "name": "stdout",
     "output_type": "stream",
     "text": [
      "YES\n",
      "YES\n",
      "NO\n",
      "0.0003949999999974807\n"
     ]
    }
   ],
   "source": [
    "##Solution found in discussion\n",
    "\n",
    "def isBalanced(s):\n",
    "\n",
    "    if len(s)%2 == 1: return 'NO'\n",
    "\n",
    "    mapping = { ')':'(', ']':'[', '}':'{'}\n",
    "    stk = []\n",
    "\n",
    "    for char in s:\n",
    "        if char in mapping:\n",
    "            top = stk.pop() if stk else 'NO'\n",
    "            if mapping[char] != top: return print('NO')\n",
    "        else: stk.append(char)\n",
    "    return print('YES') if not stk else print('NO')\n",
    "    \n",
    "start = time.process_time()\n",
    "isBalanced('{(([])[])[]}'), isBalanced('({[]})'),isBalanced('][(]}})(')\n",
    "print(time.process_time() - start)\n",
    "#YES; YES; NO"
   ]
  },
  {
   "cell_type": "markdown",
   "metadata": {},
   "source": []
  },
  {
   "cell_type": "code",
   "execution_count": 1039,
   "metadata": {},
   "outputs": [
    {
     "name": "stdout",
     "output_type": "stream",
     "text": [
      "YES\n",
      "YES\n",
      "NO\n",
      "0.00048000000001025\n"
     ]
    }
   ],
   "source": [
    "##Solution found in discussion\n",
    "\n",
    "#My edit to return print('NO') to make it quicker\n",
    "\n",
    "def isBalanced(s):\n",
    "\n",
    "    if len(s)%2 == 1: return 'NO'\n",
    "\n",
    "    mapping = { ')':'(', ']':'[', '}':'{'}\n",
    "    stk = []\n",
    "\n",
    "    for char in s:\n",
    "        if char in mapping:\n",
    "            if stk: top = stk.pop()\n",
    "            else: return print('NO')\n",
    "            if mapping[char] != top: return print('NO')\n",
    "        else: stk.append(char)\n",
    "    return print('YES') if not stk else print('NO')\n",
    "    \n",
    "start = time.process_time()\n",
    "isBalanced('{(([])[])[]}'), isBalanced('({[]})'),isBalanced('][(]}})(')\n",
    "print(time.process_time() - start)"
   ]
  },
  {
   "cell_type": "markdown",
   "metadata": {},
   "source": [
    "<h1> Waiter </h1>\n",
    "\n",
    "You are a waiter at a party. There is a pile of numbered plates. Create an empty $answers$ array. At each iteration, $i$, remove each plate from the top of the stack in order. Determine if the number on the plate is evenly divisible by the $i^{th}$ prime number. If it is, stack it in pile $B_i$. Otherwise, stack it in stack $A_i$. Store the values in $B_i$ from top to bottom in $answers$. In the next iteration, do the same with the values in stack $A_i$. Once the required number of iterations is complete, store the remaining values in $A_i$ in $answers$, again from top to bottom. Return the $answers$ array."
   ]
  },
  {
   "cell_type": "code",
   "execution_count": 1040,
   "metadata": {},
   "outputs": [
    {
     "data": {
      "text/plain": [
       "([2, 4, 6, 3, 5, 7], [4, 6, 3, 7, 5], [4, 4, 9, 3, 3])"
      ]
     },
     "execution_count": 1040,
     "metadata": {},
     "output_type": "execute_result"
    }
   ],
   "source": [
    "def getPrimes(q):\n",
    "    n = 2\n",
    "    count = 0\n",
    "    Primes = []\n",
    "    while count < q:\n",
    "        isPrime=True\n",
    "        for i in range(2, (n//2)+1):\n",
    "            if n%i == 0:\n",
    "                isPrime=False\n",
    "                break \n",
    "        if isPrime:\n",
    "            Primes.append(n)\n",
    "            count += 1\n",
    "        n += 1\n",
    "    return Primes\n",
    "\n",
    "\n",
    "def waiter(number, q):\n",
    "    # Write your code here\n",
    "\n",
    "    ans = []\n",
    "    primes = getPrimes(q)\n",
    "\n",
    "    # for i in primes:\n",
    "    #     for j in number:\n",
    "    #         if j%i == 0:\n",
    "    #             pass\n",
    "    #         else:\n",
    "    #             ans.append(j)\n",
    "\n",
    "    for i in primes:\n",
    "        temp = []\n",
    "        for j in number:\n",
    "            if j%i == 0:\n",
    "                ans.append(j)\n",
    "            else:\n",
    "                temp.append(j)\n",
    "        \n",
    "        number = temp[::-1]\n",
    "        \n",
    "    ans += number[::-1]\n",
    "    \n",
    "    return ans\n",
    "    \n",
    "\n",
    "\n",
    "\n",
    "waiter([2,3,4,5,6,7], 3), waiter([3,4,7,6,5], 1), waiter([3,3,4,4,9], 2)\n",
    "\n",
    "\n",
    "#[2,4,6,3,5]; [4,6,3,7,5]; [4,4,9,3,3]"
   ]
  },
  {
   "cell_type": "code",
   "execution_count": 1041,
   "metadata": {},
   "outputs": [
    {
     "name": "stdout",
     "output_type": "stream",
     "text": [
      "[2, 3, 5, 7]\n"
     ]
    }
   ],
   "source": [
    "#Generate list of n Primes using just list comprehension \n",
    "\n",
    "##Attempt: generates list of Primes within range 2 to q\n",
    "q = 10\n",
    "Primes = [i for i in range(2,q) if 0 not in [i%n for n in range(2,i)]]\n",
    "\n",
    "print(Primes)\n",
    "\n"
   ]
  },
  {
   "cell_type": "markdown",
   "metadata": {},
   "source": [
    "<h1> Simple Text Editor </h1>\n",
    "Implement a simple text editor. The editor initially contains an empty string, $S$. Perform $Q$ operations of the following 4 types:\n",
    "\n",
    "1. append($W$) - Append string $W$ to the end of $S$.\n",
    "2. delete($k$) - Delete the last $k$ characters of $S$.\n",
    "3. print($k$) - Print the $k^{th}$ character of $S$.\n",
    "4. undo() - Undo the last (not previously undone) operation of type 1 or 2, revertsing $S$ to the state it was in prior to that operation\n"
   ]
  },
  {
   "cell_type": "code",
   "execution_count": 1072,
   "metadata": {},
   "outputs": [
    {
     "name": "stdout",
     "output_type": "stream",
     "text": [
      "c\n",
      "y\n",
      "a\n",
      "0.0011010000000055697\n"
     ]
    }
   ],
   "source": [
    "##My solution, works except for runtime\n",
    "\n",
    "import time\n",
    "start = time.process_time()\n",
    "\n",
    "s = \"\"\n",
    "ops = ['1 abc', '3 3', '2 3', '1 xy', '3 2', '4','4','3 1']\n",
    "prev = []\n",
    "for line in ops:\n",
    "\n",
    "    query = line.split()\n",
    "\n",
    "    if query[0] == '3': \n",
    "        print(s[int(query[1])-1])\n",
    "        continue\n",
    "\n",
    "    if query[0] == '4':\n",
    "        s = prev[0]\n",
    "        query.append('1')\n",
    "\n",
    "    if query[0] == '1' or query[0] == '2':\n",
    "        prev.insert(0,s)\n",
    "\n",
    "    mapping = {'1': lambda s,query: s + query, '2': lambda s,query: s[:-int(query)],'4':lambda s, query: prev.pop(0)}\n",
    "\n",
    "\n",
    "    \n",
    "    s = mapping[query[0]](s,query[1])\n",
    "\n",
    "\n",
    "print(time.process_time() - start)\n"
   ]
  },
  {
   "cell_type": "code",
   "execution_count": 1067,
   "metadata": {},
   "outputs": [
    {
     "name": "stdout",
     "output_type": "stream",
     "text": [
      "c\n",
      "y\n",
      "a\n",
      "0.0008469999999931588\n"
     ]
    }
   ],
   "source": [
    "import time \n",
    "\n",
    "start = time.process_time()\n",
    "\n",
    "s = \"\"\n",
    "ops = ['1 abc', '3 3', '2 3', '1 xy', '3 2', '4','4','3 1']\n",
    "prev = []\n",
    "for line in ops:\n",
    "\n",
    "    mapping = {'1': lambda s,query: s + query, '2': lambda s,query: s[:-int(query)],'3':lambda s, query: print(s[int(query)-1]), '4':lambda s: prev.pop(0)}\n",
    "\n",
    "    query = line.rstrip().split()\n",
    "    \n",
    "    if (s == \"\") and (query[0] == '1'):\n",
    "        s = query[1]\n",
    "        prev.insert(0,s)\n",
    "        continue\n",
    "    elif query[0] == '1' or query[0] == '2':\n",
    "        prev.insert(0,s)\n",
    "        s = mapping[query[0]](s,query[1])\n",
    "        continue\n",
    "\n",
    "    if query[0] == '4':\n",
    "        s = prev[0]\n",
    "        mapping[query[0]](s)\n",
    "        continue\n",
    "\n",
    "\n",
    "    mapping[query[0]](s,query[1])\n",
    "\n",
    "print(time.process_time() - start)\n"
   ]
  },
  {
   "cell_type": "code",
   "execution_count": null,
   "metadata": {},
   "outputs": [
    {
     "name": "stdout",
     "output_type": "stream",
     "text": [
      "c\n",
      "None\n",
      "3xy\n",
      "x\n",
      "None\n"
     ]
    },
    {
     "ename": "IndexError",
     "evalue": "list index out of range",
     "output_type": "error",
     "traceback": [
      "\u001b[0;31m---------------------------------------------------------------------------\u001b[0m",
      "\u001b[0;31mIndexError\u001b[0m                                Traceback (most recent call last)",
      "\u001b[0;32m/var/folders/qp/cq_2m8bn7w574byl2650_yr00000gn/T/ipykernel_7454/2396140159.py\u001b[0m in \u001b[0;36m<module>\u001b[0;34m\u001b[0m\n\u001b[1;32m      8\u001b[0m \u001b[0;34m\u001b[0m\u001b[0m\n\u001b[1;32m      9\u001b[0m     \u001b[0;32mif\u001b[0m \u001b[0mquery\u001b[0m\u001b[0;34m[\u001b[0m\u001b[0;36m0\u001b[0m\u001b[0;34m]\u001b[0m \u001b[0;34m==\u001b[0m \u001b[0;34m'4'\u001b[0m\u001b[0;34m:\u001b[0m\u001b[0;34m\u001b[0m\u001b[0;34m\u001b[0m\u001b[0m\n\u001b[0;32m---> 10\u001b[0;31m         \u001b[0ms\u001b[0m \u001b[0;34m=\u001b[0m \u001b[0mprev\u001b[0m\u001b[0;34m[\u001b[0m\u001b[0;36m0\u001b[0m\u001b[0;34m]\u001b[0m\u001b[0;34m\u001b[0m\u001b[0;34m\u001b[0m\u001b[0m\n\u001b[0m\u001b[1;32m     11\u001b[0m         \u001b[0mprev\u001b[0m\u001b[0;34m.\u001b[0m\u001b[0mpop\u001b[0m\u001b[0;34m(\u001b[0m\u001b[0;36m0\u001b[0m\u001b[0;34m)\u001b[0m\u001b[0;34m\u001b[0m\u001b[0;34m\u001b[0m\u001b[0m\n\u001b[1;32m     12\u001b[0m         \u001b[0;32mcontinue\u001b[0m\u001b[0;34m\u001b[0m\u001b[0;34m\u001b[0m\u001b[0m\n",
      "\u001b[0;31mIndexError\u001b[0m: list index out of range"
     ]
    }
   ],
   "source": [
    "#Duplicate of above approach\n",
    "\n",
    "s = \"\"\n",
    "ops = ['1 abc', '3 3', '2 3', '1 xy', '3 2', '4','4','3 1']\n",
    "prev = []\n",
    "for line in ops:\n",
    "    query = line.rstrip().split()\n",
    "\n",
    "    if query[0] == '4':\n",
    "        s = prev[0]\n",
    "        prev.pop(0)\n",
    "        continue\n",
    "    elif not s:\n",
    "        s = query[1]\n",
    "        continue\n",
    "    \n",
    "    mapping = {'1': lambda s,query: s + query, '2': lambda s,query: s[:-int(query)],'3':lambda s, query: print(s[int(query)-1])}\n",
    "    \n",
    "    s = mapping[query[0]](s,query[1])\n",
    "\n",
    "    if query[0] == '1' or query[0] == '2':\n",
    "        prev.insert(0,s)\n",
    "\n",
    "    print(s)"
   ]
  },
  {
   "cell_type": "code",
   "execution_count": null,
   "metadata": {},
   "outputs": [
    {
     "name": "stdout",
     "output_type": "stream",
     "text": [
      "c\n",
      "y\n",
      "a\n",
      "0.0005949999999899092\n"
     ]
    }
   ],
   "source": [
    "##Solution presented in Discussions\n",
    "import time\n",
    "start = time.process_time()\n",
    "\n",
    "s = \"\"\n",
    "ops = ['1 abc', '3 3', '2 3', '1 xy', '3 2', '4','4','3 1']\n",
    "prev = []\n",
    "for line in ops:\n",
    "    query = line.rstrip().split()\n",
    "    #print(query)\n",
    "    if query[0] == '1':\n",
    "        prev.insert(0,s[::])\n",
    "        #print(prev)\n",
    "        s+= query[1]\n",
    "    elif query[0] == '2':\n",
    "        prev.insert(0,s[::])\n",
    "        s = s[:len(s) - int(query[1])]\n",
    "    elif query[0] == '3':\n",
    "        print(s[int(query[1]) - 1])\n",
    "    elif query[0] == '4':\n",
    "        s = prev[0]\n",
    "        prev.pop(0)\n",
    "\n",
    "print(time.process_time() - start)"
   ]
  },
  {
   "cell_type": "code",
   "execution_count": null,
   "metadata": {},
   "outputs": [
    {
     "name": "stdout",
     "output_type": "stream",
     "text": [
      "1 ['abc'] \n",
      "3 ['3'] abc\n",
      "c\n",
      "2 ['3'] abc\n",
      "1 ['xy'] \n",
      "3 ['2'] xy\n",
      "y\n",
      "4 [] xy\n",
      "4 [] xy\n",
      "3 ['1'] xy\n",
      "x\n"
     ]
    }
   ],
   "source": [
    "#Below solution doesn't work, need a stack to tack on for conditions a == '1' or a == '2' in order to stack.pop() in accordance to consecutive a == '4' conditions\n",
    "#The discussion solution efficiently solves this case which I overlooked and I stuck with it.\n",
    "\n",
    "def TextEditor(s, ops):\n",
    "    \n",
    "    temp = ''\n",
    "    for i in range(len(ops)):\n",
    "        a,*b = ops[i].rstrip().split()\n",
    "        print(a,b, s)\n",
    "        if a == '1': s += b[0]\n",
    "        elif a == '2': \n",
    "            temp = s[len(s)-int(b[0]):]\n",
    "            s = s[:-int(b[0])]\n",
    "        elif a == '3': \n",
    "            print(s[int(b[0])-1])\n",
    "            continue\n",
    "        else:\n",
    "            if prev_a == '1': s[:-len(prev_b[0])]\n",
    "            elif prev_a == '4': pass\n",
    "            else: s += temp\n",
    "        prev_a, prev_b = a, b\n",
    "\n",
    "    return s\n",
    "    \n",
    "    \n",
    "\n",
    "\n",
    "\n",
    "\n",
    "# ops = ['1 fg', '3 6', '2 5', '4', '3 7', '4', '3 4']\n",
    "# res = TextEditor('abcde',ops)\n",
    "ops = ['1 abc', '3 3', '2 3', '1 xy', '3 2', '4','4','3 1']\n",
    "res = TextEditor('', ops)\n",
    "\n",
    "#'fgd'; 'cya'"
   ]
  },
  {
   "cell_type": "code",
   "execution_count": null,
   "metadata": {},
   "outputs": [
    {
     "name": "stdout",
     "output_type": "stream",
     "text": [
      "['a', 'b', 'c', 'd', 'e']\n",
      "['a', 'b', 'c', 'd', 'e', 'fg']\n",
      "['a', 'b', 'c', 'd', 'e', 'fg']\n"
     ]
    },
    {
     "ename": "IndexError",
     "evalue": "list index out of range",
     "output_type": "error",
     "traceback": [
      "\u001b[0;31m---------------------------------------------------------------------------\u001b[0m",
      "\u001b[0;31mIndexError\u001b[0m                                Traceback (most recent call last)",
      "\u001b[0;32m/var/folders/qp/cq_2m8bn7w574byl2650_yr00000gn/T/ipykernel_7454/3743715655.py\u001b[0m in \u001b[0;36m<module>\u001b[0;34m\u001b[0m\n\u001b[1;32m     27\u001b[0m \u001b[0;34m\u001b[0m\u001b[0m\n\u001b[1;32m     28\u001b[0m \u001b[0mops\u001b[0m \u001b[0;34m=\u001b[0m \u001b[0;34m[\u001b[0m\u001b[0;34m'1 fg'\u001b[0m\u001b[0;34m,\u001b[0m \u001b[0;34m'3 6'\u001b[0m\u001b[0;34m,\u001b[0m \u001b[0;34m'2 5'\u001b[0m\u001b[0;34m,\u001b[0m \u001b[0;34m'4'\u001b[0m\u001b[0;34m,\u001b[0m \u001b[0;34m'3 7'\u001b[0m\u001b[0;34m,\u001b[0m \u001b[0;34m'4'\u001b[0m\u001b[0;34m,\u001b[0m \u001b[0;34m'3 4'\u001b[0m\u001b[0;34m]\u001b[0m\u001b[0;34m\u001b[0m\u001b[0;34m\u001b[0m\u001b[0m\n\u001b[0;32m---> 29\u001b[0;31m \u001b[0mTextEditor\u001b[0m\u001b[0;34m(\u001b[0m\u001b[0;34m'abcde'\u001b[0m\u001b[0;34m,\u001b[0m\u001b[0mops\u001b[0m\u001b[0;34m)\u001b[0m\u001b[0;34m\u001b[0m\u001b[0;34m\u001b[0m\u001b[0m\n\u001b[0m\u001b[1;32m     30\u001b[0m \u001b[0;34m\u001b[0m\u001b[0m\n\u001b[1;32m     31\u001b[0m \u001b[0;31m#['f', 'g', 'd']\u001b[0m\u001b[0;34m\u001b[0m\u001b[0;34m\u001b[0m\u001b[0;34m\u001b[0m\u001b[0m\n",
      "\u001b[0;32m/var/folders/qp/cq_2m8bn7w574byl2650_yr00000gn/T/ipykernel_7454/3743715655.py\u001b[0m in \u001b[0;36mTextEditor\u001b[0;34m(s, ops)\u001b[0m\n\u001b[1;32m     16\u001b[0m             \u001b[0ma2\u001b[0m\u001b[0;34m,\u001b[0m\u001b[0mb2\u001b[0m \u001b[0;34m=\u001b[0m \u001b[0ma\u001b[0m\u001b[0;34m,\u001b[0m\u001b[0mb\u001b[0m\u001b[0;34m\u001b[0m\u001b[0;34m\u001b[0m\u001b[0m\n\u001b[1;32m     17\u001b[0m             \u001b[0;32mbreak\u001b[0m\u001b[0;34m\u001b[0m\u001b[0;34m\u001b[0m\u001b[0m\n\u001b[0;32m---> 18\u001b[0;31m         \u001b[0mmapping\u001b[0m\u001b[0;34m[\u001b[0m\u001b[0ma\u001b[0m\u001b[0;34m]\u001b[0m\u001b[0;34m(\u001b[0m\u001b[0mb\u001b[0m\u001b[0;34m)\u001b[0m\u001b[0;34m\u001b[0m\u001b[0;34m\u001b[0m\u001b[0m\n\u001b[0m\u001b[1;32m     19\u001b[0m         \u001b[0mprint\u001b[0m\u001b[0;34m(\u001b[0m\u001b[0mf\u001b[0m\u001b[0;34m)\u001b[0m\u001b[0;34m\u001b[0m\u001b[0;34m\u001b[0m\u001b[0m\n\u001b[1;32m     20\u001b[0m         \u001b[0ma2\u001b[0m\u001b[0;34m,\u001b[0m\u001b[0mb2\u001b[0m \u001b[0;34m=\u001b[0m \u001b[0ma\u001b[0m\u001b[0;34m,\u001b[0m\u001b[0mb\u001b[0m\u001b[0;34m\u001b[0m\u001b[0;34m\u001b[0m\u001b[0m\n",
      "\u001b[0;32m/var/folders/qp/cq_2m8bn7w574byl2650_yr00000gn/T/ipykernel_7454/3743715655.py\u001b[0m in \u001b[0;36m<lambda>\u001b[0;34m(x)\u001b[0m\n\u001b[1;32m      5\u001b[0m     \u001b[0mf\u001b[0m \u001b[0;34m=\u001b[0m \u001b[0;34m[\u001b[0m \u001b[0mi\u001b[0m \u001b[0;32mfor\u001b[0m \u001b[0mi\u001b[0m \u001b[0;32min\u001b[0m \u001b[0ms\u001b[0m\u001b[0;34m]\u001b[0m\u001b[0;34m\u001b[0m\u001b[0;34m\u001b[0m\u001b[0m\n\u001b[1;32m      6\u001b[0m     \u001b[0ma2\u001b[0m\u001b[0;34m,\u001b[0m \u001b[0mb2\u001b[0m \u001b[0;34m=\u001b[0m \u001b[0;34m''\u001b[0m\u001b[0;34m,\u001b[0m \u001b[0;34m''\u001b[0m\u001b[0;34m\u001b[0m\u001b[0;34m\u001b[0m\u001b[0m\n\u001b[0;32m----> 7\u001b[0;31m     \u001b[0mmapping\u001b[0m \u001b[0;34m=\u001b[0m \u001b[0;34m{\u001b[0m\u001b[0;34m'1'\u001b[0m\u001b[0;34m:\u001b[0m\u001b[0;32mlambda\u001b[0m \u001b[0mx\u001b[0m\u001b[0;34m:\u001b[0m \u001b[0mf\u001b[0m\u001b[0;34m.\u001b[0m\u001b[0mappend\u001b[0m\u001b[0;34m(\u001b[0m\u001b[0mx\u001b[0m\u001b[0;34m)\u001b[0m\u001b[0;34m,\u001b[0m \u001b[0;34m'2'\u001b[0m\u001b[0;34m:\u001b[0m \u001b[0;32mlambda\u001b[0m \u001b[0mx\u001b[0m\u001b[0;34m:\u001b[0m \u001b[0mf\u001b[0m\u001b[0;34m[\u001b[0m\u001b[0;34m:\u001b[0m\u001b[0;34m-\u001b[0m\u001b[0mint\u001b[0m\u001b[0;34m(\u001b[0m\u001b[0mx\u001b[0m\u001b[0;34m)\u001b[0m\u001b[0;34m]\u001b[0m\u001b[0;34m,\u001b[0m \u001b[0;34m'3'\u001b[0m\u001b[0;34m:\u001b[0m \u001b[0;32mlambda\u001b[0m \u001b[0mx\u001b[0m\u001b[0;34m:\u001b[0m \u001b[0mprint\u001b[0m\u001b[0;34m(\u001b[0m\u001b[0mstr\u001b[0m\u001b[0;34m(\u001b[0m\u001b[0mf\u001b[0m\u001b[0;34m[\u001b[0m\u001b[0mint\u001b[0m\u001b[0;34m(\u001b[0m\u001b[0mx\u001b[0m\u001b[0;34m)\u001b[0m\u001b[0;34m]\u001b[0m\u001b[0;34m)\u001b[0m\u001b[0;34m)\u001b[0m\u001b[0;34m,\u001b[0m\u001b[0;34m'4'\u001b[0m\u001b[0;34m:\u001b[0m \u001b[0;32mlambda\u001b[0m \u001b[0mx\u001b[0m\u001b[0;34m,\u001b[0m\u001b[0my\u001b[0m \u001b[0;34m:\u001b[0m \u001b[0mf\u001b[0m\u001b[0;34m[\u001b[0m\u001b[0;34m:\u001b[0m\u001b[0;34m-\u001b[0m\u001b[0mlen\u001b[0m\u001b[0;34m(\u001b[0m\u001b[0my\u001b[0m\u001b[0;34m)\u001b[0m\u001b[0;34m]\u001b[0m \u001b[0;32mif\u001b[0m \u001b[0mx\u001b[0m \u001b[0;34m==\u001b[0m \u001b[0;34m'1'\u001b[0m \u001b[0;32melse\u001b[0m \u001b[0mf\u001b[0m\u001b[0;34m.\u001b[0m\u001b[0mappend\u001b[0m\u001b[0;34m(\u001b[0m\u001b[0my\u001b[0m\u001b[0;34m)\u001b[0m\u001b[0;34m}\u001b[0m\u001b[0;34m\u001b[0m\u001b[0;34m\u001b[0m\u001b[0m\n\u001b[0m\u001b[1;32m      8\u001b[0m \u001b[0;34m\u001b[0m\u001b[0m\n\u001b[1;32m      9\u001b[0m     \u001b[0;32mfor\u001b[0m \u001b[0mi\u001b[0m \u001b[0;32min\u001b[0m \u001b[0mrange\u001b[0m\u001b[0;34m(\u001b[0m\u001b[0mlen\u001b[0m\u001b[0;34m(\u001b[0m\u001b[0mops\u001b[0m\u001b[0;34m)\u001b[0m\u001b[0;34m)\u001b[0m\u001b[0;34m:\u001b[0m\u001b[0;34m\u001b[0m\u001b[0;34m\u001b[0m\u001b[0m\n",
      "\u001b[0;31mIndexError\u001b[0m: list index out of range"
     ]
    }
   ],
   "source": [
    "\n",
    "#Using Lists as input instead of String\n",
    "#Incomplete work as I realized it's better to leave input as string\n",
    "def TextEditor(s, ops):\n",
    "\n",
    "    f = [ i for i in s]\n",
    "    a2, b2 = '', ''\n",
    "    mapping = {'1':lambda x: f.append(x), '2': lambda x: f[:-int(x)], '3': lambda x: print(str(f[int(x)])),'4': lambda x,y : f[:-len(y)] if x == '1' else f.append(y)}\n",
    "\n",
    "    for i in range(len(ops)):\n",
    "        print(f)\n",
    "        a,b = ops[i].split()\n",
    "        if a == '4':\n",
    "            print(f, 'a==4')\n",
    "            mapping[a](a2,b2)\n",
    "            print(f, 'a==4 after')\n",
    "            a2,b2 = a,b\n",
    "            break\n",
    "        mapping[a](b)\n",
    "        print(f)\n",
    "        a2,b2 = a,b\n",
    "\n",
    "\n",
    "\n",
    "\n",
    "\n",
    "\n",
    "\n",
    "ops = ['1 fg', '3 6', '2 5', '4', '3 7', '4', '3 4']\n",
    "TextEditor('abcde',ops)\n",
    "\n",
    "#['f', 'g', 'd']\n"
   ]
  },
  {
   "cell_type": "code",
   "execution_count": null,
   "metadata": {},
   "outputs": [
    {
     "name": "stdout",
     "output_type": "stream",
     "text": [
      "['sa', 'dc']\n"
     ]
    },
    {
     "data": {
      "text/plain": [
       "['sa', 'dc', 'dc']"
      ]
     },
     "execution_count": 697,
     "metadata": {},
     "output_type": "execute_result"
    }
   ],
   "source": [
    "# random test\n",
    "\n",
    "mapping = {'1':lambda x: f.append(x), '2': lambda x: f[:-int(x)], '3': lambda x: print(f[int(x)]),'4': lambda x,y : f[:-len(x)] if x == '1' else  f.append(y)}\n",
    "\n",
    "\n",
    "f = []\n",
    "temp = ['a']\n",
    "mapping['1']('sa')\n",
    "mapping['1']('dc')\n",
    "print(f)\n",
    "mapping['4']('2','dc')\n",
    "f"
   ]
  },
  {
   "cell_type": "code",
   "execution_count": null,
   "metadata": {},
   "outputs": [
    {
     "data": {
      "text/plain": [
       "['a', 's', 'a', 's']"
      ]
     },
     "execution_count": 734,
     "metadata": {},
     "output_type": "execute_result"
    }
   ],
   "source": [
    "#random test \n",
    "\n",
    "m = ['a']\n",
    "mapping = {'4':lambda x: (','.join(x)).split(',')}\n",
    "\n",
    "g = mapping['4']('sas')\n",
    "m += g\n",
    "m\n",
    "# for i in g: m.append(i)\n",
    "# m"
   ]
  },
  {
   "cell_type": "code",
   "execution_count": null,
   "metadata": {},
   "outputs": [
    {
     "name": "stdout",
     "output_type": "stream",
     "text": [
      "abcdefg\n",
      "d\n",
      "\n"
     ]
    }
   ],
   "source": [
    "#random test\n",
    "s = 'abcde'\n",
    "\n",
    "mapping = {'1': lambda x: x, '2': lambda x: s[:len(s)-int(x)], '3': lambda x: print(s[int(x)-1]),'4': lambda x,y : s[:-len(y)] if x == '1' else y}\n",
    "\n",
    "mapping['1'](s,'1 fg')\n",
    "print(mapping['1'](s,'fg'))\n",
    "# s = mapping['2']('2')\n",
    "# print(s)\n",
    "# s = mapping['4']('1','xy')\n",
    "# print(s)\n",
    "# s += mapping['4']('2','ef')\n",
    "# print(s)\n",
    "mapping['3']('3')\n",
    "# print(s)\n",
    "\n",
    "\n"
   ]
  },
  {
   "cell_type": "code",
   "execution_count": null,
   "metadata": {},
   "outputs": [
    {
     "data": {
      "text/plain": [
       "'abc'"
      ]
     },
     "execution_count": 856,
     "metadata": {},
     "output_type": "execute_result"
    }
   ],
   "source": [
    "s = 'abc'\n",
    "op_params = '1 fg'\n",
    "mapping = {'1': lambda s,op_params: s + op_params.split()[1], '2': lambda op_params: s[:len(s)-int(op_params.split()[1])],\n",
    "'3':lambda x: print(s[int(x)-1])}\n",
    "\n",
    "mapping['1'](s, op_params)\n"
   ]
  },
  {
   "cell_type": "markdown",
   "metadata": {},
   "source": []
  },
  {
   "cell_type": "code",
   "execution_count": null,
   "metadata": {},
   "outputs": [],
   "source": []
  }
 ],
 "metadata": {
  "interpreter": {
   "hash": "aee8b7b246df8f9039afb4144a1f6fd8d2ca17a180786b69acc140d282b71a49"
  },
  "kernelspec": {
   "display_name": "Python 3.9.5 64-bit",
   "name": "python3"
  },
  "language_info": {
   "codemirror_mode": {
    "name": "ipython",
    "version": 3
   },
   "file_extension": ".py",
   "mimetype": "text/x-python",
   "name": "python",
   "nbconvert_exporter": "python",
   "pygments_lexer": "ipython3",
   "version": "3.9.5"
  },
  "orig_nbformat": 4
 },
 "nbformat": 4,
 "nbformat_minor": 2
}
