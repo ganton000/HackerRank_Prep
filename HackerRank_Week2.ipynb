{
 "cells": [
  {
   "cell_type": "markdown",
   "metadata": {},
   "source": [
    "<h1> Sales by Match </h1>\n",
    "There is a large pile of socks that must be paired by color. Given an array of integers representing the color of each sock, determine how many pairs of socks with matching colors there are."
   ]
  },
  {
   "cell_type": "code",
   "execution_count": 3,
   "metadata": {},
   "outputs": [
    {
     "data": {
      "text/plain": [
       "(3, 6)"
      ]
     },
     "execution_count": 3,
     "metadata": {},
     "output_type": "execute_result"
    }
   ],
   "source": [
    "\n",
    "def sockMerchant(n, ar):\n",
    "    # Write your code here\n",
    "    res = 0\n",
    "    for i in set(ar):\n",
    "        res += ar.count(i)//2\n",
    "    return res \n",
    "\n",
    "sockMerchant(9, [10, 20, 20, 10, 10, 30, 50, 10, 20]), sockMerchant(15, [6, 5, 2, 3, 5, 2, 2, 1, 1, 5, 1, 3, 3, 3, 5])\n",
    "\n",
    "#3; 6"
   ]
  },
  {
   "cell_type": "markdown",
   "metadata": {},
   "source": [
    "<h1> Zig Zag Sequence </h1>\n",
    "In this challenge, the task is to debug the existing code to successfully execute all provided test files.\n",
    "\n",
    "Given an array of $n$ distinct integers, transform the array into a zig zag sequence by permuting the array elements. A sequence will be called a zig zag sequence if the first $k$ elements in the sequence are in increasing order and the last $k$ elements are in decreasing order, where $k = (n+1)/2$. You need to find the lexicographically smallest zig zag sequence of the given array."
   ]
  },
  {
   "cell_type": "code",
   "execution_count": 6,
   "metadata": {},
   "outputs": [
    {
     "name": "stdout",
     "output_type": "stream",
     "text": [
      "1 2 3 7 6 5 4\n",
      "1 2 3 4 5 6 7 8 9 10 11 12 14 15 16 17 18 19 20 21 22 23 24 25 50 49 48 47 46 45 44 43 42 41 40 39 38 37 36 35 34 33 32 31 30 29 28 27 26\n"
     ]
    },
    {
     "data": {
      "text/plain": [
       "(None, None)"
      ]
     },
     "execution_count": 6,
     "metadata": {},
     "output_type": "execute_result"
    }
   ],
   "source": [
    "def findZigZagSequence(a, n):\n",
    "    a.sort()\n",
    "    mid = int((n + 1)/2 -1)\n",
    "    a[mid], a[n-1] = a[n-1], a[mid]\n",
    "\n",
    "    st = mid + 1\n",
    "    ed = n - 2\n",
    "    while(st <= ed):\n",
    "        a[st], a[ed] = a[ed], a[st]\n",
    "        st = st + 1\n",
    "        ed = ed - 1\n",
    "\n",
    "    for i in range (n):\n",
    "        if i == n-1:\n",
    "            print(a[i])\n",
    "        else:\n",
    "            print(a[i], end = ' ')\n",
    "    return\n",
    "\n",
    "findZigZagSequence([1,2,3,4,5,6,7], 7), findZigZagSequence([25, 8, 20, 45, 49, 12, 35, 36, 39, 31, 3, 47, 30, 33, 37, 23, 14, 9, 27, 6, 10, 22, 24, 15, 43, 28, 38, 40, 17, 34, 21, 16, 4, 46, 7, 5, 44, 50, 26, 18, 32, 29, 42, 1, 48, 41, 19, 11, 2], 49)\n",
    "\n",
    "#1 2 3 7 6 5 4; 1 2 3 4 5 6 7 8 9 10 11 12 14 15 16 17 18 19 20 21 22 23 24 25 50 49 48 47 46 45 44 43 42 41 40 39 38 37 36 35 34 33 32 31 30 29 28 27 26"
   ]
  },
  {
   "cell_type": "markdown",
   "metadata": {},
   "source": [
    "<h1> Drawing Book </h1>\n",
    "\n",
    "A teacher asks the class to open their books to a page number. A student can either start turning pages from the front of the book or from the back of the book. They always turn pages on at a time. When they open the book, page $1$ is always on the right side.\n",
    "\n",
    "When they flip page $1$, they see pages $2$ and $3$. Each page except the last page will always be printed on both sides. The last page may only be printed on the front, given the length of the book. If the book is $n$ pages long, and a student wants to to turn to page $p$, what is the minimum number of pages to turn? They can start at the beginning or end of the book.\n",
    "\n",
    "Given $n$ and $p$, find and print the minimum number of pages that must be turned in order to arrive at page $p$."
   ]
  },
  {
   "cell_type": "code",
   "execution_count": 7,
   "metadata": {},
   "outputs": [
    {
     "data": {
      "text/plain": [
       "(1, 0, 0, 0, 8720)"
      ]
     },
     "execution_count": 7,
     "metadata": {},
     "output_type": "execute_result"
    }
   ],
   "source": [
    "def pageCount(n, p):\n",
    "    # Write your code here \n",
    "    return min(p//2, n//2-p//2)\n",
    "\n",
    "pageCount(6,2), pageCount(5,4), pageCount(4,4), pageCount(5,1), pageCount(95073, 17440)\n",
    "\n",
    "#1; 0; 0; 0; 8720"
   ]
  },
  {
   "cell_type": "markdown",
   "metadata": {},
   "source": [
    "<h1> Tower Breakers </h1>\n",
    "\n",
    "Two players are playing a game of Tower Breakers! Player $1$ always moves first, and both players always play optimally.The rules of the game are as follows:\n",
    "\n",
    "1. Initially there are $n$ towers.\n",
    "2. Each tower is of height $m$.\n",
    "3. The players move in alternating turns.\n",
    "4. In each turn, a player can choose a tower of height $x$ and reduce its height to $y$, where $1 \\leq y < x$  and $y$ evenly divides $x$.\n",
    "5. If the current player is unable to make a move, they lose the game.\n",
    "\n",
    "Given the values of $n$ and $m$, determine which player will win. If the first player wins, return $1$. Otherwise, return $2$."
   ]
  },
  {
   "cell_type": "code",
   "execution_count": 9,
   "metadata": {},
   "outputs": [
    {
     "data": {
      "text/plain": [
       "(2, 1, 2, 2)"
      ]
     },
     "execution_count": 9,
     "metadata": {},
     "output_type": "execute_result"
    }
   ],
   "source": [
    "def towerBreakers(n, m):\n",
    "    # Write your code here\n",
    "    towers = n\n",
    "    height = m\n",
    "    if (towers%2 ==0) | (height == 1): return 2\n",
    "    else: return 1\n",
    "\n",
    "towerBreakers(2,2), towerBreakers(1,4), towerBreakers(691094, 397662), towerBreakers(100001, 1)\n",
    "\n",
    "#2; 1; 2; 2"
   ]
  },
  {
   "cell_type": "markdown",
   "metadata": {},
   "source": [
    "<h1> Caesar Cipher </h1>\n",
    "\n",
    "Julius Caesar protected his confidential information by encrypting it using a cipher. Caesar's cipher shifts each letter by a number of letters. If the shift takes you past the end of the alphabet, just rotate back to the front of the alphabet. In the case of a rotation by $3, w, x, y$ and $z$ would map to $z, a, b$ and $c$.\n",
    "\n",
    "Original alphabet:      abcdefghijklmnopqrstuvwxyz <br>\n",
    "Alphabet rotated +3:    defghijklmnopqrstuvwxyzabc"
   ]
  },
  {
   "cell_type": "code",
   "execution_count": 11,
   "metadata": {},
   "outputs": [
    {
     "data": {
      "text/plain": [
       "('okffng-Qwvb',\n",
       " '159357fwzx',\n",
       " 'D3q4',\n",
       " '!w-bL`-yX!.G`mVKmFlX/MaCyyvSS!CSwts.!g/`He`eJk1DGZBa`eBLdyu`hZD`vV-jZDm.LCBSre..-!.!dmv!-E')"
      ]
     },
     "execution_count": 11,
     "metadata": {},
     "output_type": "execute_result"
    }
   ],
   "source": [
    "def caesarCipher(s, k):\n",
    "    # Write your code here\n",
    "    alphabet = 'abcdefghijklmnopqrstuvwxyz'\n",
    "    res =''\n",
    "    for i in range(len(s)):\n",
    "        if (s[i].isalpha() == 0): res += s[i]\n",
    "        elif s[i].islower() == 1: res += alphabet[(alphabet.find(s[i])+k)%26]\n",
    "        else: res += alphabet[(alphabet.find(s[i].lower())+k)%26].upper()\n",
    "    return res\n",
    "\n",
    "caesarCipher('middle-Outz',2), caesarCipher('159357lcfd',98), caesarCipher('D3q4',0), caesarCipher('!m-rB`-oN!.W`cLAcVbN/CqSoolII!SImji.!w/`Xu`uZa1TWPRq`uRBtok`xPT`lL-zPTc.BSRIhu..-!.!tcl!-U',62)\n",
    "\n",
    "\n",
    "#okffng-Qwvb; 159357fwzx; D3q4; !w-bL`-yX!.G`mVKmFlX/MaCyyvSS!CSwts.!g/`He`eJk1DGZBa`eBLdyu`hZD`vV-jZDm.LCBSre..-!.!dmv!-E"
   ]
  },
  {
   "cell_type": "markdown",
   "metadata": {},
   "source": [
    "<h1> Max Min </h1>\n",
    "\n",
    "You will be given a list of integers, $arr$, and a single integer $k$. You must create an array of length $k$ from elements of $arr$ such that its unfairness is minimized. Call that array $arr'$. Unfairness of an array is calculated as:\n",
    "\n",
    "$$max(arr') - min(arr')$$\n",
    "\n",
    "\n",
    "Where:\n",
    "- max denotes the largest integer in $arr'$.\n",
    "- min denotes the smallest integer in $arr'$."
   ]
  },
  {
   "cell_type": "code",
   "execution_count": 13,
   "metadata": {},
   "outputs": [
    {
     "data": {
      "text/plain": [
       "3"
      ]
     },
     "execution_count": 13,
     "metadata": {},
     "output_type": "execute_result"
    }
   ],
   "source": [
    "def maxMin(k, arr):\n",
    "    # Write your code here\n",
    "    arr.sort()\n",
    "    fairness = max(arr)\n",
    "    for i in range(len(arr)-(k-1)):\n",
    "        res = arr[i+k-1]-arr[i]\n",
    "        if res < fairness:\n",
    "            fairness = res\n",
    "    return fairness\n",
    "\n",
    "maxMin(4, [1, 2, 3, 4, 10, 20, 30, 40, 100, 200])\n",
    "\n",
    "#3\n"
   ]
  },
  {
   "cell_type": "markdown",
   "metadata": {},
   "source": [
    "<h1> Dynamic Array </h1>\n"
   ]
  },
  {
   "cell_type": "code",
   "execution_count": null,
   "metadata": {},
   "outputs": [],
   "source": [
    "def dynamicArray(n, queries):\n",
    "    # Write your code here\n",
    "    arr = [[] for _ in range(n) ]\n",
    "    lastAnswer = 0\n",
    "    ans = []\n",
    "    for query in queries:\n",
    "        x,y = query[1], query[2]\n",
    "        if query[0] == 1:\n",
    "            idx = ((x^lastAnswer)%n)\n",
    "            arr[idx].append(y)\n",
    "        else:\n",
    "            idx = ((x^lastAnswer)%n)\n",
    "            lastAnswer = arr[idx][y%len(arr[idx])]\n",
    "            ans.append(lastAnswer)\n",
    "    \n",
    "    return ans\n",
    "\n",
    "\n",
    "    "
   ]
  },
  {
   "cell_type": "markdown",
   "metadata": {},
   "source": [
    "<h1> Grid Challenge </h1>\n",
    "\n",
    "Given a square grid of characters in the range ascii[a-z], rearrange elements of each row alphabetically, ascending. Determine if the columns are also in ascending alphabetical order, top to bottom. Return YES if they are or NO if they are not.\n",
    "\n",
    "\n",
    "Example\n",
    "\n",
    "The grid is illustrated below.\n",
    "\n",
    "$\\begin{bmatrix}\n",
    "a &b &c\\\\\n",
    "a &d &e\\\\\n",
    "e &f &g\\\\ \\end{bmatrix}$\n",
    "\n",
    "The rows are already in alphabetical order. The columns $a a e, b d f$ and $c e g$ are also in alphabetical order, so the answer would be YES. Only elements within the same row can be rearranged. They cannot be moved to a different row.\n",
    "\n",
    "\n",
    "\n"
   ]
  },
  {
   "cell_type": "code",
   "execution_count": 16,
   "metadata": {},
   "outputs": [
    {
     "data": {
      "text/plain": [
       "('YES', 'YES', 'NO')"
      ]
     },
     "execution_count": 16,
     "metadata": {},
     "output_type": "execute_result"
    }
   ],
   "source": [
    "def gridChallenge(grid):\n",
    "    res_arr = []\n",
    "    for strings in grid:\n",
    "         res_arr.append(sorted([ ord(i) for i in strings ]))\n",
    "         \n",
    "    for i in range(len(res_arr[0])):\n",
    "        for j in range(len(res_arr)-1):\n",
    "            if res_arr[j][i] > res_arr[j+1][i]: return 'NO'\n",
    "    return 'YES'\n",
    "\n",
    "\n",
    "gridChallenge(['eabcd', 'fghij', 'olkmn', 'trpqs','xywuv']), gridChallenge(['kc','iu']), gridChallenge(['uxf', 'vof','hmp'])\n",
    "\n",
    "#YES; YES; NO"
   ]
  },
  {
   "cell_type": "markdown",
   "metadata": {},
   "source": [
    "<h1> Prime Dates </h1>"
   ]
  },
  {
   "cell_type": "code",
   "execution_count": null,
   "metadata": {},
   "outputs": [],
   "source": []
  }
 ],
 "metadata": {
  "interpreter": {
   "hash": "aee8b7b246df8f9039afb4144a1f6fd8d2ca17a180786b69acc140d282b71a49"
  },
  "kernelspec": {
   "display_name": "Python 3.9.5 64-bit",
   "name": "python3"
  },
  "language_info": {
   "codemirror_mode": {
    "name": "ipython",
    "version": 3
   },
   "file_extension": ".py",
   "mimetype": "text/x-python",
   "name": "python",
   "nbconvert_exporter": "python",
   "pygments_lexer": "ipython3",
   "version": "3.9.5"
  },
  "orig_nbformat": 4
 },
 "nbformat": 4,
 "nbformat_minor": 2
}
