{
 "cells": [
  {
   "cell_type": "markdown",
   "metadata": {},
   "source": [
    "<h1> Sales by Match </h1>\n",
    "There is a large pile of socks that must be paired by color. Given an array of integers representing the color of each sock, determine how many pairs of socks with matching colors there are."
   ]
  },
  {
   "cell_type": "code",
   "execution_count": 3,
   "metadata": {},
   "outputs": [
    {
     "data": {
      "text/plain": [
       "(3, 6)"
      ]
     },
     "execution_count": 3,
     "metadata": {},
     "output_type": "execute_result"
    }
   ],
   "source": [
    "\n",
    "def sockMerchant(n, ar):\n",
    "    # Write your code here\n",
    "    res = 0\n",
    "    for i in set(ar):\n",
    "        res += ar.count(i)//2\n",
    "    return res \n",
    "\n",
    "sockMerchant(9, [10, 20, 20, 10, 10, 30, 50, 10, 20]), sockMerchant(15, [6, 5, 2, 3, 5, 2, 2, 1, 1, 5, 1, 3, 3, 3, 5])\n",
    "\n",
    "#3; 6"
   ]
  },
  {
   "cell_type": "markdown",
   "metadata": {},
   "source": [
    "<h1> Zig Zag Sequence </h1>\n",
    "In this challenge, the task is to debug the existing code to successfully execute all provided test files.\n",
    "\n",
    "Given an array of $n$ distinct integers, transform the array into a zig zag sequence by permuting the array elements. A sequence will be called a zig zag sequence if the first $k$ elements in the sequence are in increasing order and the last $k$ elements are in decreasing order, where $k = (n+1)/2$. You need to find the lexicographically smallest zig zag sequence of the given array."
   ]
  },
  {
   "cell_type": "code",
   "execution_count": 6,
   "metadata": {},
   "outputs": [
    {
     "name": "stdout",
     "output_type": "stream",
     "text": [
      "1 2 3 7 6 5 4\n",
      "1 2 3 4 5 6 7 8 9 10 11 12 14 15 16 17 18 19 20 21 22 23 24 25 50 49 48 47 46 45 44 43 42 41 40 39 38 37 36 35 34 33 32 31 30 29 28 27 26\n"
     ]
    },
    {
     "data": {
      "text/plain": [
       "(None, None)"
      ]
     },
     "execution_count": 6,
     "metadata": {},
     "output_type": "execute_result"
    }
   ],
   "source": [
    "def findZigZagSequence(a, n):\n",
    "    a.sort()\n",
    "    mid = int((n + 1)/2 -1)\n",
    "    a[mid], a[n-1] = a[n-1], a[mid]\n",
    "\n",
    "    st = mid + 1\n",
    "    ed = n - 2\n",
    "    while(st <= ed):\n",
    "        a[st], a[ed] = a[ed], a[st]\n",
    "        st = st + 1\n",
    "        ed = ed - 1\n",
    "\n",
    "    for i in range (n):\n",
    "        if i == n-1:\n",
    "            print(a[i])\n",
    "        else:\n",
    "            print(a[i], end = ' ')\n",
    "    return\n",
    "\n",
    "findZigZagSequence([1,2,3,4,5,6,7], 7), findZigZagSequence([25, 8, 20, 45, 49, 12, 35, 36, 39, 31, 3, 47, 30, 33, 37, 23, 14, 9, 27, 6, 10, 22, 24, 15, 43, 28, 38, 40, 17, 34, 21, 16, 4, 46, 7, 5, 44, 50, 26, 18, 32, 29, 42, 1, 48, 41, 19, 11, 2], 49)\n",
    "\n",
    "#1 2 3 7 6 5 4; 1 2 3 4 5 6 7 8 9 10 11 12 14 15 16 17 18 19 20 21 22 23 24 25 50 49 48 47 46 45 44 43 42 41 40 39 38 37 36 35 34 33 32 31 30 29 28 27 26"
   ]
  },
  {
   "cell_type": "markdown",
   "metadata": {},
   "source": [
    "<h1> Drawing Book </h1>\n",
    "\n",
    "A teacher asks the class to open their books to a page number. A student can either start turning pages from the front of the book or from the back of the book. They always turn pages on at a time. When they open the book, page $1$ is always on the right side.\n",
    "\n",
    "When they flip page $1$, they see pages $2$ and $3$. Each page except the last page will always be printed on both sides. The last page may only be printed on the front, given the length of the book. If the book is $n$ pages long, and a student wants to to turn to page $p$, what is the minimum number of pages to turn? They can start at the beginning or end of the book.\n",
    "\n",
    "Given $n$ and $p$, find and print the minimum number of pages that must be turned in order to arrive at page $p$."
   ]
  },
  {
   "cell_type": "code",
   "execution_count": 7,
   "metadata": {},
   "outputs": [
    {
     "data": {
      "text/plain": [
       "(1, 0, 0, 0, 8720)"
      ]
     },
     "execution_count": 7,
     "metadata": {},
     "output_type": "execute_result"
    }
   ],
   "source": [
    "def pageCount(n, p):\n",
    "    # Write your code here \n",
    "    return min(p//2, n//2-p//2)\n",
    "\n",
    "pageCount(6,2), pageCount(5,4), pageCount(4,4), pageCount(5,1), pageCount(95073, 17440)\n",
    "\n",
    "#1; 0; 0; 0; 8720"
   ]
  },
  {
   "cell_type": "markdown",
   "metadata": {},
   "source": [
    "<h1> Tower Breakers </h1>\n",
    "\n",
    "Two players are playing a game of Tower Breakers! Player $1$ always moves first, and both players always play optimally.The rules of the game are as follows:\n",
    "\n",
    "1. Initially there are $n$ towers.\n",
    "2. Each tower is of height $m$.\n",
    "3. The players move in alternating turns.\n",
    "4. In each turn, a player can choose a tower of height $x$ and reduce its height to $y$, where $1 \\leq y < x$  and $y$ evenly divides $x$.\n",
    "5. If the current player is unable to make a move, they lose the game.\n",
    "\n",
    "Given the values of $n$ and $m$, determine which player will win. If the first player wins, return $1$. Otherwise, return $2$."
   ]
  },
  {
   "cell_type": "code",
   "execution_count": 9,
   "metadata": {},
   "outputs": [
    {
     "data": {
      "text/plain": [
       "(2, 1, 2, 2)"
      ]
     },
     "execution_count": 9,
     "metadata": {},
     "output_type": "execute_result"
    }
   ],
   "source": [
    "def towerBreakers(n, m):\n",
    "    # Write your code here\n",
    "    towers = n\n",
    "    height = m\n",
    "    if (towers%2 ==0) | (height == 1): return 2\n",
    "    else: return 1\n",
    "\n",
    "towerBreakers(2,2), towerBreakers(1,4), towerBreakers(691094, 397662), towerBreakers(100001, 1)\n",
    "\n",
    "#2; 1; 2; 2"
   ]
  },
  {
   "cell_type": "markdown",
   "metadata": {},
   "source": [
    "<h1> Caesar Cipher </h1>\n",
    "\n",
    "Julius Caesar protected his confidential information by encrypting it using a cipher. Caesar's cipher shifts each letter by a number of letters. If the shift takes you past the end of the alphabet, just rotate back to the front of the alphabet. In the case of a rotation by $3, w, x, y$ and $z$ would map to $z, a, b$ and $c$.\n",
    "\n",
    "Original alphabet:      abcdefghijklmnopqrstuvwxyz <br>\n",
    "Alphabet rotated +3:    defghijklmnopqrstuvwxyzabc"
   ]
  },
  {
   "cell_type": "code",
   "execution_count": 11,
   "metadata": {},
   "outputs": [
    {
     "data": {
      "text/plain": [
       "('okffng-Qwvb',\n",
       " '159357fwzx',\n",
       " 'D3q4',\n",
       " '!w-bL`-yX!.G`mVKmFlX/MaCyyvSS!CSwts.!g/`He`eJk1DGZBa`eBLdyu`hZD`vV-jZDm.LCBSre..-!.!dmv!-E')"
      ]
     },
     "execution_count": 11,
     "metadata": {},
     "output_type": "execute_result"
    }
   ],
   "source": [
    "def caesarCipher(s, k):\n",
    "    # Write your code here\n",
    "    alphabet = 'abcdefghijklmnopqrstuvwxyz'\n",
    "    res =''\n",
    "    for i in range(len(s)):\n",
    "        if (s[i].isalpha() == 0): res += s[i]\n",
    "        elif s[i].islower() == 1: res += alphabet[(alphabet.find(s[i])+k)%26]\n",
    "        else: res += alphabet[(alphabet.find(s[i].lower())+k)%26].upper()\n",
    "    return res\n",
    "\n",
    "caesarCipher('middle-Outz',2), caesarCipher('159357lcfd',98), caesarCipher('D3q4',0), caesarCipher('!m-rB`-oN!.W`cLAcVbN/CqSoolII!SImji.!w/`Xu`uZa1TWPRq`uRBtok`xPT`lL-zPTc.BSRIhu..-!.!tcl!-U',62)\n",
    "\n",
    "\n",
    "#okffng-Qwvb; 159357fwzx; D3q4; !w-bL`-yX!.G`mVKmFlX/MaCyyvSS!CSwts.!g/`He`eJk1DGZBa`eBLdyu`hZD`vV-jZDm.LCBSre..-!.!dmv!-E"
   ]
  },
  {
   "cell_type": "markdown",
   "metadata": {},
   "source": [
    "<h1> Max Min </h1>\n",
    "\n",
    "You will be given a list of integers, $arr$, and a single integer $k$. You must create an array of length $k$ from elements of $arr$ such that its unfairness is minimized. Call that array $arr'$. Unfairness of an array is calculated as:\n",
    "\n",
    "$$max(arr') - min(arr')$$\n",
    "\n",
    "\n",
    "Where:\n",
    "- max denotes the largest integer in $arr'$.\n",
    "- min denotes the smallest integer in $arr'$."
   ]
  },
  {
   "cell_type": "code",
   "execution_count": 13,
   "metadata": {},
   "outputs": [
    {
     "data": {
      "text/plain": [
       "3"
      ]
     },
     "execution_count": 13,
     "metadata": {},
     "output_type": "execute_result"
    }
   ],
   "source": [
    "def maxMin(k, arr):\n",
    "    # Write your code here\n",
    "    arr.sort()\n",
    "    fairness = max(arr)\n",
    "    for i in range(len(arr)-(k-1)):\n",
    "        res = arr[i+k-1]-arr[i]\n",
    "        if res < fairness:\n",
    "            fairness = res\n",
    "    return fairness\n",
    "\n",
    "maxMin(4, [1, 2, 3, 4, 10, 20, 30, 40, 100, 200])\n",
    "\n",
    "#3\n"
   ]
  },
  {
   "cell_type": "markdown",
   "metadata": {},
   "source": [
    "<h1> Dynamic Array </h1>\n"
   ]
  },
  {
   "cell_type": "code",
   "execution_count": null,
   "metadata": {},
   "outputs": [],
   "source": [
    "def dynamicArray(n, queries):\n",
    "    # Write your code here\n",
    "    arr = [[] for _ in range(n) ]\n",
    "    lastAnswer = 0\n",
    "    ans = []\n",
    "    for query in queries:\n",
    "        x,y = query[1], query[2]\n",
    "        if query[0] == 1:\n",
    "            idx = ((x^lastAnswer)%n)\n",
    "            arr[idx].append(y)\n",
    "        else:\n",
    "            idx = ((x^lastAnswer)%n)\n",
    "            lastAnswer = arr[idx][y%len(arr[idx])]\n",
    "            ans.append(lastAnswer)\n",
    "    \n",
    "    return ans\n",
    "\n",
    "\n",
    "    "
   ]
  },
  {
   "cell_type": "markdown",
   "metadata": {},
   "source": [
    "<h1> Grid Challenge </h1>\n",
    "\n",
    "Given a square grid of characters in the range ascii[a-z], rearrange elements of each row alphabetically, ascending. Determine if the columns are also in ascending alphabetical order, top to bottom. Return YES if they are or NO if they are not.\n",
    "\n",
    "\n",
    "Example\n",
    "\n",
    "The grid is illustrated below.\n",
    "\n",
    "$\\begin{bmatrix}\n",
    "a &b &c\\\\\n",
    "a &d &e\\\\\n",
    "e &f &g\\\\ \\end{bmatrix}$\n",
    "\n",
    "The rows are already in alphabetical order. The columns $a a e, b d f$ and $c e g$ are also in alphabetical order, so the answer would be YES. Only elements within the same row can be rearranged. They cannot be moved to a different row.\n",
    "\n",
    "\n",
    "\n"
   ]
  },
  {
   "cell_type": "code",
   "execution_count": 16,
   "metadata": {},
   "outputs": [
    {
     "data": {
      "text/plain": [
       "('YES', 'YES', 'NO')"
      ]
     },
     "execution_count": 16,
     "metadata": {},
     "output_type": "execute_result"
    }
   ],
   "source": [
    "def gridChallenge(grid):\n",
    "    res_arr = []\n",
    "    for strings in grid:\n",
    "         res_arr.append(sorted([ ord(i) for i in strings ]))\n",
    "         \n",
    "    for i in range(len(res_arr[0])):\n",
    "        for j in range(len(res_arr)-1):\n",
    "            if res_arr[j][i] > res_arr[j+1][i]: return 'NO'\n",
    "    return 'YES'\n",
    "\n",
    "\n",
    "gridChallenge(['eabcd', 'fghij', 'olkmn', 'trpqs','xywuv']), gridChallenge(['kc','iu']), gridChallenge(['uxf', 'vof','hmp'])\n",
    "\n",
    "#YES; YES; NO"
   ]
  },
  {
   "cell_type": "markdown",
   "metadata": {},
   "source": [
    "<h1> Prime Dates </h1>\n",
    "\n",
    "In this challenge, the task is to debug the existing code to successfully execute all provided test files. \n",
    "\n",
    "Given two dates in the format <it>dd-mm-yyyy </it>, you have to find the number of lucky dates between them (inclusive). To see if a date is lucky,\n",
    "\n",
    "1. Firstly, sequentially concatinate the date, month and year, into a new integer $x$ erasing the leading zeroes.\n",
    "2. Now if $x$ is divisible by either $4$ or $7$, then we call the date a lucky date.\n",
    "\n",
    "For example, let's take the date \"02-08-2024\". After concatinating the day, month and year, we get $x = 2082024$. As $x$ is divisible by $4$ so the date \"02-08-2024\" is called a lucky date.\n",
    "\n",
    "Debug the given function <b>findPrimeDates</b> and/or other lines of code, to find the correct lucky dates from the given input."
   ]
  },
  {
   "cell_type": "code",
   "execution_count": 20,
   "metadata": {},
   "outputs": [
    {
     "data": {
      "text/plain": [
       "[5, 846403, 942182]"
      ]
     },
     "execution_count": 20,
     "metadata": {},
     "output_type": "execute_result"
    }
   ],
   "source": [
    "\n",
    "import re\n",
    "\n",
    "month = []\n",
    "\n",
    "def updateLeapYear(year):\n",
    "    if year % 400 == 0:\n",
    "        month[2] = 29\n",
    "    elif year % 100 == 0:\n",
    "        month[2] = 28\n",
    "    elif year % 4 == 0:\n",
    "        month[2] = 29\n",
    "    else:\n",
    "        month[2] = 28\n",
    "\n",
    "def storeMonth():\n",
    "    month[1] = 31\n",
    "    month[2] = 28\n",
    "    month[3] = 31\n",
    "    month[4] = 30\n",
    "    month[5] = 31\n",
    "    month[6] = 30\n",
    "    month[7] = 31\n",
    "    month[8] = 31\n",
    "    month[9] = 30\n",
    "    month[10] = 31\n",
    "    month[11] = 30\n",
    "    month[12] = 31\n",
    "\n",
    "def findPrimeDates(d1, m1, y1, d2, m2, y2):\n",
    "    storeMonth()\n",
    "    result = 0\n",
    "\n",
    "    while(True):\n",
    "        x = d1\n",
    "        x = x * 100 + m1\n",
    "        x = x * 10000 + y1\n",
    "        if x % 4 == 0 or x % 7 == 0:\n",
    "            result = result + 1\n",
    "        if d1 == d2 and m1 == m2 and y1 == y2:\n",
    "            break\n",
    "        updateLeapYear(y1)\n",
    "        d1 = d1 + 1\n",
    "        if d1 > month[m1]:\n",
    "            m1 = m1 + 1\n",
    "            d1 = 1\n",
    "            if m1 > 12:\n",
    "                y1 =  y1 + 1\n",
    "                m1 = 1\n",
    "    return result\n",
    "\n",
    "for i in range(1, 15):\n",
    "    month.append(31)\n",
    "\n",
    "res = []\n",
    "for dates in [\"02-08-2025 04-09-2025\", \"25-06-2365 07-09-8847\", \"13-10-2323 11-10-9536\"]:\n",
    "    line = dates\n",
    "    date = re.split('-| ', line)\n",
    "    d1 = int(date[0])\n",
    "    m1 = int(date[1])\n",
    "    y1 = int(date[2])\n",
    "    d2 = int(date[3])\n",
    "    m2 = int(date[4])\n",
    "    y2 = int(date[5])\n",
    "\n",
    "    res.append(findPrimeDates(d1, m1, y1, d2, m2, y2))\n",
    "\n",
    "res\n",
    "\n",
    "#5; 846403; 942183"
   ]
  },
  {
   "cell_type": "markdown",
   "metadata": {},
   "source": [
    "<h1> Sherlock and Array </h1>\n",
    "\n",
    "Watson gives Sherlock an array of integers. His challenge is to find an element of the array such that the sum of all elements to the left is equal to the sum of all elements to the right.\n",
    "\n",
    "<b>Example <b>\n",
    "\n",
    "$arr = [5,6,8,11]$ <br>\n",
    "$8$ is between two subarrays that sum to $11$.<br>\n",
    "$arr = [1]$<br>\n",
    "The answer is $[1]$ since left and right sum to $0$.<br>\n",
    "You will be given arrays of integers and must determine whether there is an element that meets the criterion. <br>\n",
    "If there is, return YES. Otherwise, return NO."
   ]
  },
  {
   "cell_type": "code",
   "execution_count": 21,
   "metadata": {},
   "outputs": [
    {
     "data": {
      "text/plain": [
       "('NO', 'YES', 'YES', 'YES')"
      ]
     },
     "execution_count": 21,
     "metadata": {},
     "output_type": "execute_result"
    }
   ],
   "source": [
    "def balancedSums(arr):\n",
    "    # Write your code here\n",
    "    if len(arr) == 1: return 'YES'\n",
    "    if len(arr) == 2: return 'NO'\n",
    "    tot = sum(arr)\n",
    "    cum_sum = 0\n",
    "    for i in arr:\n",
    "        if cum_sum == tot - i - cum_sum: return 'YES'\n",
    "        cum_sum += i\n",
    "        if cum_sum >= (tot//2): return 'NO'\n",
    "\n",
    "\n",
    "balancedSums([1,2,3]), balancedSums([1,2,3,3]), balancedSums([6,23,6]), balancedSums([20000])\n",
    "#NO; YES; YES; YES"
   ]
  },
  {
   "cell_type": "markdown",
   "metadata": {},
   "source": [
    "<h1> Recursive Digit Sum </h1>\n",
    "\n",
    "We define super digit of an integer $x$ using the following rules: <br>\n",
    "Given an integer, we need to find the super digit of the integer.\n",
    "\n",
    "1. If $x$ has only $1$ digit, then its super digit is $x$.\n",
    "2. Otherwise, the super digit of $x$ is equal to the super digit of the sum of the digits of $x$.\n",
    "\n",
    "For example, the super digit of $9875$ will be calculated as:\n",
    "\n",
    "$\\begin{align*}\n",
    "&superdigit(9875) \\qquad 9+8+7+5 = 29,\\\\\n",
    "&superdigit(29) \\qquad 2 + 9 = 11,\\\\\n",
    "&superdigit(11) \\qquad 1 + 1 = 2,\\\\\n",
    "&superdigit(2) \\qquad =2.\n",
    "\\end{align*}$"
   ]
  },
  {
   "cell_type": "code",
   "execution_count": 36,
   "metadata": {},
   "outputs": [
    {
     "data": {
      "text/plain": [
       "['3', '8', '8']"
      ]
     },
     "execution_count": 36,
     "metadata": {},
     "output_type": "execute_result"
    }
   ],
   "source": [
    "def superDigit(n,k):\n",
    "    # Write your code here\n",
    "    if len(n) == 1 & k == 1: return n\n",
    "    #digit = str(sum(map(int, k))*k)\n",
    "    digit = str(sum([int(i) for i in n])*k)\n",
    "    return superDigit(digit, 1)\n",
    "\n",
    "res = []\n",
    "for i in ['148 3','593 10', '98963 100']:\n",
    "    first_multiple_input = i.split()\n",
    "    n = first_multiple_input[0]\n",
    "    k = int(first_multiple_input[1])\n",
    "    res.append(superDigit(n,k))\n",
    "\n",
    "res\n",
    "#3; 8; 8"
   ]
  },
  {
   "cell_type": "markdown",
   "metadata": {},
   "source": [
    "<h1> Counter game </h1>\n",
    "Louise and Richard have developed a numbers game. They pick a number and check to see if it is a power of $2$. If it is, they divide it by $2$. If not, they reduce it by the next lower number which is a power of $2$. Whoever reduces the number to $1$ wins the game. Louise always starts.\n",
    "\n",
    "Given an inital value, determine who wins the game.\n",
    "\n",
    "<b>Example</b>\n",
    "\n",
    "$n = 132$ <br>\n",
    "It's Louise's turn first. She determines that $132$ is not a power of $2$. The next lower power of $2$ is $128$, so she subtracts that from $132$ and passes $4$ to Richard. $4$ is a power of $2$, so Richard divides it by $2$ and passes $2$ to Louise. Likewise, $2$ is a power so she divides it by $2$ and reaches $1$. She wins the game.\n",
    "\n",
    "If they initially set the counter to $1$, Richard wins. Louise cannot make a move so she loses."
   ]
  },
  {
   "cell_type": "code",
   "execution_count": 37,
   "metadata": {},
   "outputs": [
    {
     "data": {
      "text/plain": [
       "('Richard', 'Richard', 'Richard', 'Louise', 'Louise')"
      ]
     },
     "execution_count": 37,
     "metadata": {},
     "output_type": "execute_result"
    }
   ],
   "source": [
    "def counterGame(n):\n",
    "    # Write your code here\n",
    "    i = 1\n",
    "    while n > 1:\n",
    "        k = 0\n",
    "        i += 1\n",
    "        while (2**k) < n: k += 1\n",
    "        n = n//2 if ((2**k) == n) else n - (2**(k-1))\n",
    "    return 'Louise' if (i%2 == 0) else 'Richard'\n",
    "\n",
    "counterGame(6), counterGame(1560834904), counterGame(1768820483), counterGame(1533726144),counterGame(1463674015)\n",
    "\n",
    "#Richard; Richard; Richard; Louise; Louise"
   ]
  },
  {
   "cell_type": "markdown",
   "metadata": {},
   "source": [
    "<h1> Sum vs. XOR </h1>\n",
    "\n",
    "Given an integer $n$, find each $x$ such that:\n",
    "\n",
    "1. $0 \\leq x \\leq n$.\n",
    "2. $n+x = n \\oplus x$.\n",
    "\n",
    "<b>Example</b>\n",
    "\n",
    "$n=4$\n",
    "\n",
    "There are four values that meet the criteria:\n",
    "1. $4+0 = 4 \\oplus 0 = 4$\n",
    "2. $4+1 = 4 \\oplus 1 = 5$\n",
    "3. $4+2 = 4 \\oplus 2 = 6$\n",
    "4. $4+3 = 4 \\oplus 3 = 7$\n",
    "\n",
    "Return $4$."
   ]
  },
  {
   "cell_type": "code",
   "execution_count": 38,
   "metadata": {},
   "outputs": [
    {
     "data": {
      "text/plain": [
       "(2, 16, 1, 4, 16)"
      ]
     },
     "execution_count": 38,
     "metadata": {},
     "output_type": "execute_result"
    }
   ],
   "source": [
    "def sumXor(n):\n",
    "    #Write your code here\n",
    "    return 1 if n == 0 else 2**(bin(n)[2:].count('0'))\n",
    "\n",
    "sumXor(5), sumXor(100), sumXor(0), sumXor(79), sumXor(34)\n",
    "\n",
    "#2; 16; 1; 4; 16"
   ]
  }
 ],
 "metadata": {
  "interpreter": {
   "hash": "aee8b7b246df8f9039afb4144a1f6fd8d2ca17a180786b69acc140d282b71a49"
  },
  "kernelspec": {
   "display_name": "Python 3.9.5 64-bit",
   "name": "python3"
  },
  "language_info": {
   "codemirror_mode": {
    "name": "ipython",
    "version": 3
   },
   "file_extension": ".py",
   "mimetype": "text/x-python",
   "name": "python",
   "nbconvert_exporter": "python",
   "pygments_lexer": "ipython3",
   "version": "3.9.5"
  },
  "orig_nbformat": 4
 },
 "nbformat": 4,
 "nbformat_minor": 2
}
