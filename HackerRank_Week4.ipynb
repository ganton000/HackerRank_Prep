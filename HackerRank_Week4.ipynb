{
 "cells": [
  {
   "cell_type": "markdown",
   "metadata": {},
   "source": [
    "<h1> HackerRank 1 Month Preparation Kit Week 4 </h1>"
   ]
  },
  {
   "cell_type": "markdown",
   "metadata": {},
   "source": [
    "<h1> Equal Stacks </h1>\n",
    "You have three stacks of cylinders where each cylinder has the same diameter, but they may vary in height. You can change the height of a stack by removing and discarding its topmost cylinder any number of times.\n",
    "\n",
    "Find the maximum possible height of the stacks such that all of the stacks are exactly the same height. This means you must remove zero or more cylinders from the top of zero or more of the three stacks until they are all the same height, then return the height.\n",
    "\n",
    "<b> Example </b>\n",
    "\n",
    "$h1 = [1,2,1,1]$<br>\n",
    "$h2 = [1,1,2]$<br>\n",
    "$h3 = [1,1]$<br>\n",
    "\n",
    "There are $4, 3$ and $2$ cylinders in the three stacks, with their heights in the three arrays. Remove the top 2 cylinders from $h1$ (heights $= [1,2]$) and from $h2$ (heights $= [1,1]$) so that the three stacks all are 2 units tall. Return <b> 2</b> as the answer. \n",
    "\n",
    "<b>Note</b>: An empty stack is still a stack."
   ]
  },
  {
   "cell_type": "code",
   "execution_count": null,
   "metadata": {},
   "outputs": [],
   "source": []
  },
  {
   "cell_type": "markdown",
   "metadata": {},
   "source": [
    "<h1> The Maximum SubArray </h1>"
   ]
  },
  {
   "cell_type": "markdown",
   "metadata": {},
   "source": []
  }
 ],
 "metadata": {
  "interpreter": {
   "hash": "aee8b7b246df8f9039afb4144a1f6fd8d2ca17a180786b69acc140d282b71a49"
  },
  "kernelspec": {
   "display_name": "Python 3.9.5 64-bit",
   "name": "python3"
  },
  "language_info": {
   "name": "python",
   "version": "3.9.5"
  },
  "orig_nbformat": 4
 },
 "nbformat": 4,
 "nbformat_minor": 2
}
