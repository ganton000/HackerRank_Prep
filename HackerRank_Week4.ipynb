{
 "cells": [
  {
   "cell_type": "markdown",
   "metadata": {},
   "source": [
    "<h1> HackerRank 1 Month Preparation Kit Week 4 </h1>"
   ]
  },
  {
   "cell_type": "markdown",
   "metadata": {},
   "source": [
    "<h1> Equal Stacks </h1>\n",
    "You have three stacks of cylinders where each cylinder has the same diameter, but they may vary in height. You can change the height of a stack by removing and discarding its topmost cylinder any number of times.\n",
    "\n",
    "Find the maximum possible height of the stacks such that all of the stacks are exactly the same height. This means you must remove zero or more cylinders from the top of zero or more of the three stacks until they are all the same height, then return the height.\n",
    "\n",
    "<b> Example </b>\n",
    "\n",
    "$h1 = [1,2,1,1]$<br>\n",
    "$h2 = [1,1,2]$<br>\n",
    "$h3 = [1,1]$<br>\n",
    "\n",
    "There are $4, 3$ and $2$ cylinders in the three stacks, with their heights in the three arrays. Remove the top 2 cylinders from $h1$ (heights $= [1,2]$) and from $h2$ (heights $= [1,1]$) so that the three stacks all are 2 units tall. Return <b> 2</b> as the answer. \n",
    "\n",
    "<b>Note</b>: An empty stack is still a stack."
   ]
  },
  {
   "cell_type": "code",
   "execution_count": 17,
   "metadata": {},
   "outputs": [
    {
     "name": "stdout",
     "output_type": "stream",
     "text": [
      "5\n",
      "0.00035200000000035203\n"
     ]
    }
   ],
   "source": [
    "import time\n",
    "\n",
    "\n",
    "def equalStacks(h1, h2, h3):\n",
    "\n",
    "    sumh1, sumh2, sumh3 = sum(h1), sum(h2), sum(h3)\n",
    "\n",
    "\n",
    "    while h1 and h2 and h3:\n",
    "        if sumh1 == sumh2 & sumh2 == sumh3:\n",
    "            return sumh1\n",
    "            \n",
    "        res = min(sumh1, sumh2, sumh3)\n",
    "        \n",
    "        if sumh1 > res:\n",
    "            sumh1 -= h1.pop(0)\n",
    "        if sumh2 > res:\n",
    "            sumh2 -= h2.pop(0)\n",
    "        if sumh3 > res:\n",
    "            sumh3 -= h3.pop(0)\n",
    "\n",
    "    return 0\n",
    "\n",
    "\n",
    "\n",
    "\n",
    "\n",
    "\n",
    "\n",
    "h1, h2, h3 = [3,2,1,1,1], [4,3,2], [1,1,4,1]\n",
    "\n",
    "start = time.process_time()\n",
    "\n",
    "print(equalStacks(h1,h2,h3)) \n",
    "print(time.process_time() - start)\n",
    "\n",
    "#5\n"
   ]
  },
  {
   "cell_type": "markdown",
   "metadata": {},
   "source": [
    "<h1> The Maximum SubArray </h1>\n",
    "We define subsequence as any subset of an array. We define a subarray as a contiguous subsequence in an array.\n",
    "\n",
    "Given an array, find the maximum possible sum among:\n",
    "\n",
    "1. all nonempty subarrays.\n",
    "2. all nonempty subsequences.\n",
    "\n",
    "Print the two values as space-separated integers on one line.<br>\n",
    "\n",
    "<b>Note</b> that empty subarrays/subsequences should not be considered.\n",
    "\n",
    "<b> Example</b>\n",
    "\n",
    "$arr = [-1,2,3,-4,5,10]$\n",
    "\n",
    "The maximum subarray sum is comprised of elements at indices $[1-5]$. Their sum is $2 + 3 - 4 + 5 + 10 = 16$. The maximum subsequence sum is comprised of elements at indices $[1,2,4,5]$ and their sum is $2+3+5+10 = 20$."
   ]
  },
  {
   "cell_type": "code",
   "execution_count": null,
   "metadata": {},
   "outputs": [],
   "source": [
    "def maxSubarray(arr):\n",
    "\n",
    "\n",
    "\n",
    "\n",
    "\n",
    "\n",
    "maxSubarray([1,2,3,4]), maxSubarray([2,-1,2,3,4,-5])\n",
    "\n",
    "\n",
    "#10 10; 10 11"
   ]
  },
  {
   "cell_type": "markdown",
   "metadata": {},
   "source": []
  }
 ],
 "metadata": {
  "interpreter": {
   "hash": "aee8b7b246df8f9039afb4144a1f6fd8d2ca17a180786b69acc140d282b71a49"
  },
  "kernelspec": {
   "display_name": "Python 3.9.5 64-bit",
   "name": "python3"
  },
  "language_info": {
   "codemirror_mode": {
    "name": "ipython",
    "version": 3
   },
   "file_extension": ".py",
   "mimetype": "text/x-python",
   "name": "python",
   "nbconvert_exporter": "python",
   "pygments_lexer": "ipython3",
   "version": "3.9.5"
  },
  "orig_nbformat": 4
 },
 "nbformat": 4,
 "nbformat_minor": 2
}
