{
 "cells": [
  {
   "cell_type": "markdown",
   "metadata": {},
   "source": [
    "<h1> Word Order </h1>\n",
    "You are given $n$ words. Some words may repeat. For each word, output its number of occurrences. The output order should correspond with the input order of appearance of the word. See the sample input/output for clarification.\n",
    "\n",
    "<b> Note: </b> Each input line ends with a \"\\n\" character."
   ]
  },
  {
   "cell_type": "code",
   "execution_count": 55,
   "metadata": {},
   "outputs": [
    {
     "name": "stdout",
     "output_type": "stream",
     "text": [
      "3\n",
      "2 1 1\n"
     ]
    }
   ],
   "source": [
    "\n",
    "\n",
    "def wordOrder(arr):\n",
    "\n",
    "    res = {}\n",
    "    for word in arr:\n",
    "        if word not in res:\n",
    "            res[word] = 1\n",
    "        else: res[word] += 1\n",
    "\n",
    "    \n",
    "    print(len(res))\n",
    "    print(*res.values())\n",
    "\n",
    "\n",
    "\n",
    "\n",
    "\n",
    "arr = ['bcdef', 'abcdefg', 'bcde', 'bcdef']\n",
    "wordOrder(arr)\n",
    "\n",
    "#Output\n",
    "#3 \\n, 2 1 1; "
   ]
  },
  {
   "cell_type": "markdown",
   "metadata": {},
   "source": [
    "<h1> Validating Email Addresses With a Filter </h1>\n",
    "\n",
    "You are given an integer $N$ followed by $N$ email addresses.  Your task is to print a list containing only valid email addresses in lexicographical order.\n",
    "\n",
    "\n",
    "Valid email addresses must follow these rules:\n",
    "\n",
    "1. It must have the username@websitename.extension format type.\n",
    "2. The username can only contain letters, digits, dashes and underscores $[a-z], [A-Z], [0-9], [_-]$.\n",
    "3. The website name can only have letters and digits $[a-z], [A-Z], [0-9]$.\n",
    "4. The extension can only contain letters $[a-z], [A-Z]$.\n",
    "5. The maximum length of the extension is 3.\n",
    "\n",
    "<b> Concept </b> <br>\n",
    "A filter takes a function returning True or False and applies it to a sequence, returning a list of only those members of the sequence where the function returned True. A Lambda function can be used with filters.\n",
    "\n",
    "Let's say you have to make a list of the squares of integers from $0$ to $9$ (both included).\n",
    "\n",
    "```l = list(range(10))```<br>\n",
    "```l = list(map(lambda x: x*x, l)) ```\n",
    "\n",
    "Now, you only require those elements that are greater than $10$ but less than $80$.\n",
    "\n",
    "``` l = list(filter(lambda x: x > 10 and x < 80,l)) ```"
   ]
  },
  {
   "cell_type": "code",
   "execution_count": 56,
   "metadata": {},
   "outputs": [
    {
     "data": {
      "text/plain": [
       "('lara', 'hackerrank', 'com')"
      ]
     },
     "execution_count": 56,
     "metadata": {},
     "output_type": "execute_result"
    }
   ],
   "source": [
    "s = 'lara@hackerrank.com'\n",
    "\n",
    "username = s.split('@')[0]\n",
    "website = (s.split('.')[0]).split('@')[1]\n",
    "extension = s.split('.')[1]\n",
    "\n",
    "username, website, extension"
   ]
  },
  {
   "cell_type": "markdown",
   "metadata": {},
   "source": [
    "<h1> Encryption </h1>\n",
    "\n",
    "An English text needs to be encrypted using the following encryption scheme. First, the spaces are removed from the text. Let $L$ be the length of this text. Then, characters are written into a grid, whose rows and columns have the following constraints:\n",
    "\n",
    "$$ \\lfloor \\sqrt{L} \\rfloor \\leq \\text{column} \\leq \\lceil \\sqrt{L} \\rceil, \\text{ where $\\lfloor x \\rfloor$ is floor function and $\\lceil x \\rceil$ is ceil function}$$\n",
    "\n",
    "<b>Example</b><br>\n",
    "$s=$ if man was meant to stay on the ground god would have given us roots <br>\n",
    "\n",
    "After removing spaces, the string is $54$ characters long. \n",
    "\n",
    "$\\sqrt{54}$ is between $7$ and $8$, so it is written in the form of a grid with seven rows and eight columns.\n",
    "\n",
    "```\n",
    "ifmanwas  \n",
    "meanttos          \n",
    "tayonthe  \n",
    "groundgo  \n",
    "dwouldha  \n",
    "vegivenu  \n",
    "sroots\n",
    "```\n",
    "\n",
    "1. Ensure that rows $\\times$ columns $\\leq L$\n",
    "2. If multiple grids satisfy the above conditions, choose the one with the minimum area, i.e. rows $\\times$ columns.\n",
    "\n",
    "The encoded message is obtained by displaying the characters of each column, with a space between column texts. The encoded message for the grid above is:\n",
    "\n",
    "```\n",
    "imtgdvs fearwer mayoogo anouuio ntnnlvt wttddes aohghn sseoau\n",
    "```\n",
    "\n",
    "Create a function to encode a message.\n"
   ]
  },
  {
   "cell_type": "code",
   "execution_count": 7,
   "metadata": {},
   "outputs": [
    {
     "data": {
      "text/plain": [
       "'ifmanwasmeanttostayonthegroundgodwouldhavegivenusroots'"
      ]
     },
     "execution_count": 7,
     "metadata": {},
     "output_type": "execute_result"
    }
   ],
   "source": [
    "msg = \"if man was meant to stay on the ground god would have given us roots\"\n",
    "\n",
    "L = ''.join(msg.split(' '))\n",
    "\n"
   ]
  },
  {
   "cell_type": "code",
   "execution_count": 10,
   "metadata": {},
   "outputs": [
    {
     "name": "stdout",
     "output_type": "stream",
     "text": [
      "ifmanwasmeanttos meanttos     \n"
     ]
    }
   ],
   "source": [
    "\n",
    "def encryption(s):\n",
    "\n",
    "    print(*[ (''.join(s.split(' '))[(8*i):(int((len(''.join(s.split(' ')))**(1/2)))+(1+(8*1)))]) for i in range(int((len(''.join(s.split(' ')))**(1/2)))) ], sep=' ')\n",
    "\n",
    "\n",
    "\n",
    "\n",
    "msg = \"if man was meant to stay on the ground god would have given us roots\"\n",
    "\n",
    "encryption(msg)\n",
    "\n",
    "#encryption('have a nice day'), encryption('feed the dog'), encryption('chill out')\n",
    "\n",
    "#Outputs\n",
    "#hae and via ecy; fto ehg ee dd; clu hlt io"
   ]
  },
  {
   "cell_type": "code",
   "execution_count": null,
   "metadata": {},
   "outputs": [
    {
     "ename": "AttributeError",
     "evalue": "'list' object has no attribute 'split'",
     "output_type": "error",
     "traceback": [
      "\u001b[0;31m---------------------------------------------------------------------------\u001b[0m",
      "\u001b[0;31mAttributeError\u001b[0m                            Traceback (most recent call last)",
      "\u001b[0;32m/var/folders/qp/cq_2m8bn7w574byl2650_yr00000gn/T/ipykernel_88721/310348849.py\u001b[0m in \u001b[0;36m<module>\u001b[0;34m\u001b[0m\n\u001b[1;32m     48\u001b[0m \u001b[0marr2\u001b[0m \u001b[0;34m=\u001b[0m \u001b[0;34m[\u001b[0m\u001b[0;34m'its@gmail.com1'\u001b[0m\u001b[0;34m,\u001b[0m\u001b[0;34m'mike13445@yahoomail9.server'\u001b[0m\u001b[0;34m,\u001b[0m\u001b[0;34m'rase23@ha_ch.com'\u001b[0m\u001b[0;34m,\u001b[0m\u001b[0;34m'daniyal@gmail.coma'\u001b[0m\u001b[0;34m,\u001b[0m\u001b[0;34m'thatisit@thatisit'\u001b[0m\u001b[0;34m]\u001b[0m\u001b[0;34m\u001b[0m\u001b[0;34m\u001b[0m\u001b[0m\n\u001b[1;32m     49\u001b[0m \u001b[0;34m\u001b[0m\u001b[0m\n\u001b[0;32m---> 50\u001b[0;31m \u001b[0mfun\u001b[0m\u001b[0;34m(\u001b[0m\u001b[0marr\u001b[0m\u001b[0;34m)\u001b[0m\u001b[0;34m,\u001b[0m \u001b[0mfun\u001b[0m\u001b[0;34m(\u001b[0m\u001b[0marr1\u001b[0m\u001b[0;34m)\u001b[0m\u001b[0;34m\u001b[0m\u001b[0;34m\u001b[0m\u001b[0m\n\u001b[0m\u001b[1;32m     51\u001b[0m \u001b[0;34m\u001b[0m\u001b[0m\n\u001b[1;32m     52\u001b[0m \u001b[0;34m\u001b[0m\u001b[0m\n",
      "\u001b[0;32m/var/folders/qp/cq_2m8bn7w574byl2650_yr00000gn/T/ipykernel_88721/2808724987.py\u001b[0m in \u001b[0;36mfun\u001b[0;34m(email)\u001b[0m\n\u001b[1;32m     30\u001b[0m \u001b[0;32mdef\u001b[0m \u001b[0mfun\u001b[0m\u001b[0;34m(\u001b[0m\u001b[0memail\u001b[0m\u001b[0;34m)\u001b[0m\u001b[0;34m:\u001b[0m\u001b[0;34m\u001b[0m\u001b[0;34m\u001b[0m\u001b[0m\n\u001b[1;32m     31\u001b[0m     \u001b[0;32mtry\u001b[0m\u001b[0;34m:\u001b[0m\u001b[0;34m\u001b[0m\u001b[0;34m\u001b[0m\u001b[0m\n\u001b[0;32m---> 32\u001b[0;31m         \u001b[0musername\u001b[0m\u001b[0;34m,\u001b[0m \u001b[0murl\u001b[0m \u001b[0;34m=\u001b[0m \u001b[0memail\u001b[0m\u001b[0;34m.\u001b[0m\u001b[0msplit\u001b[0m\u001b[0;34m(\u001b[0m\u001b[0;34m\"@\"\u001b[0m\u001b[0;34m)\u001b[0m\u001b[0;34m\u001b[0m\u001b[0;34m\u001b[0m\u001b[0m\n\u001b[0m\u001b[1;32m     33\u001b[0m         \u001b[0mwebsite\u001b[0m\u001b[0;34m,\u001b[0m \u001b[0mextension\u001b[0m \u001b[0;34m=\u001b[0m \u001b[0murl\u001b[0m\u001b[0;34m.\u001b[0m\u001b[0msplit\u001b[0m\u001b[0;34m(\u001b[0m\u001b[0;34m\".\"\u001b[0m\u001b[0;34m)\u001b[0m\u001b[0;34m\u001b[0m\u001b[0;34m\u001b[0m\u001b[0m\n\u001b[1;32m     34\u001b[0m     \u001b[0;32mexcept\u001b[0m \u001b[0mValueError\u001b[0m\u001b[0;34m:\u001b[0m\u001b[0;34m\u001b[0m\u001b[0;34m\u001b[0m\u001b[0m\n",
      "\u001b[0;31mAttributeError\u001b[0m: 'list' object has no attribute 'split'"
     ]
    }
   ],
   "source": [
    "#Inputs are arrays with non-empty strings as elements\n",
    "\n",
    "\n",
    "\n",
    "# def fun(arr):\n",
    "\n",
    "#     for s in arr:\n",
    "        \n",
    "#         # username = s.split('@')[0]\n",
    "#         # website = (s.split('.')[0]).split('@')[1]\n",
    "#         # extension = s.split('.')[1]\n",
    "#         #\n",
    "    \n",
    "#         try:\n",
    "#             username, url = s.split(\"@\")\n",
    "#             website, extension = url.split(\".\")\n",
    "#         except ValueError:\n",
    "#             return False\n",
    "\n",
    "#         if len(extension) > 3: return False\n",
    "#         elif website.isalnum() == 0: return False\n",
    "#         elif username.isalnum() == 0 and username != '_' and username != '-': return False\n",
    "#         else: return True\n",
    "        \n",
    "def filter_mail(emails):\n",
    "    return list(filter(fun, emails))\n",
    "\n",
    "##Cleaner solution found in discussions; i.e. nicer implementation of .split() and .replace()\n",
    "\n",
    "def check_valid(email):\n",
    "    try:\n",
    "        username, url = email.split(\"@\")\n",
    "        website, extension = url.split(\".\")\n",
    "    except ValueError:\n",
    "        return False\n",
    "    \n",
    "    if not username.replace(\"-\", \"\").replace(\"_\", \"\").isalnum():\n",
    "        return False\n",
    "    if not website.isalnum():\n",
    "        return False\n",
    "    if len(extension) > 3:\n",
    "        return False\n",
    "    return True\n",
    "\n",
    "\n",
    "arr = ['lara@hackerrank.com', 'brian-23@hackerrank.com','britts_54@hackerrank.com']\n",
    "arr1 = ['harsh@gmail', 'iota_98@hackerrank.com']\n",
    "arr2 = ['its@gmail.com1','mike13445@yahoomail9.server','rase23@ha_ch.com','daniyal@gmail.coma','thatisit@thatisit']\n",
    "\n",
    "fun(arr), fun(arr1)\n",
    "\n",
    "\n",
    "filtered_emails = filter_mail(arr)\n",
    "filtered_emails.sort()\n",
    "print(filtered_emails)\n",
    "filtered_emails = filter_mail(arr1)\n",
    "filtered_emails.sort()\n",
    "print(filtered_emails)\n",
    "filtered_emails = filter_mail(arr2)\n",
    "filtered_emails.sort()\n",
    "print(filtered_emails)\n",
    "\n",
    "#Output\n",
    "#['brian-23@hackerrank.com','britts_54@hackerrank.com','lara@hackerrank.com']; ['iota_98@hackerrank.com']; []"
   ]
  },
  {
   "cell_type": "markdown",
   "metadata": {},
   "source": [
    "<h1> Athlete Sort </h1>\n",
    "\n",
    "You are given a spreadsheet that contains a list of $N$ athletes and their details (such as age, height, weight and so on). You are required to sort the data based on the $K^{th}$ attribute and print the final resulting table. \n",
    "\n",
    "<b>Note:</b> that  is indexed from $0$ to $M-1$, where $M$ is the number of attributes.\n",
    "\n",
    "<b>Note:</b> If two attributes are the same for different rows, for example, if two atheletes are of the same age, print the row that appeared first in the input.\n"
   ]
  },
  {
   "cell_type": "code",
   "execution_count": null,
   "metadata": {},
   "outputs": [
    {
     "ename": "NameError",
     "evalue": "name 'col' is not defined",
     "output_type": "error",
     "traceback": [
      "\u001b[0;31m---------------------------------------------------------------------------\u001b[0m",
      "\u001b[0;31mNameError\u001b[0m                                 Traceback (most recent call last)",
      "\u001b[0;32m/var/folders/qp/cq_2m8bn7w574byl2650_yr00000gn/T/ipykernel_88721/3465073041.py\u001b[0m in \u001b[0;36m<module>\u001b[0;34m\u001b[0m\n\u001b[1;32m     16\u001b[0m \u001b[0mk\u001b[0m \u001b[0;34m=\u001b[0m \u001b[0;36m1\u001b[0m\u001b[0;34m\u001b[0m\u001b[0;34m\u001b[0m\u001b[0m\n\u001b[1;32m     17\u001b[0m \u001b[0;34m\u001b[0m\u001b[0m\n\u001b[0;32m---> 18\u001b[0;31m \u001b[0mathleteSort\u001b[0m\u001b[0;34m(\u001b[0m\u001b[0mcol\u001b[0m\u001b[0;34m,\u001b[0m \u001b[0marr\u001b[0m\u001b[0;34m)\u001b[0m\u001b[0;34m\u001b[0m\u001b[0;34m\u001b[0m\u001b[0m\n\u001b[0m\u001b[1;32m     19\u001b[0m \u001b[0;34m\u001b[0m\u001b[0m\n\u001b[1;32m     20\u001b[0m \u001b[0;31m#OUTPUT\u001b[0m\u001b[0;34m\u001b[0m\u001b[0;34m\u001b[0m\u001b[0m\n",
      "\u001b[0;31mNameError\u001b[0m: name 'col' is not defined"
     ]
    }
   ],
   "source": [
    "\n",
    "\n",
    "def athleteSort(col, arr):\n",
    "\n",
    "    for row in sorted(arr, key=lambda row: row[col]):\n",
    "        print(*row)\n",
    "\n",
    "    '''\n",
    "    By default sorted(arr) sorts by values in the first column (column 0). \n",
    "    Setting key to be the k^th element in each row, it will then sort the array \n",
    "    by the k^th element (in this case second column, i.e. index k = 1)\n",
    "\n",
    "    i.e. it sorts by the k^th element with respect to each row in the array\n",
    "    '''\n",
    "\n",
    "\n",
    "arr = [[10, 2, 5], [7, 1, 0], [9, 9, 9], [1, 23, 12], [6, 5, 9]]\n",
    "k = 1\n",
    "\n",
    "athleteSort(col, arr)\n",
    "\n",
    "#OUTPUT\n",
    "# 7 1 0\n",
    "# 10 2 5\n",
    "# 6 5 9\n",
    "# 9 9 9\n",
    "# 1 23 12\n",
    "\n",
    "\n",
    "\n"
   ]
  },
  {
   "cell_type": "markdown",
   "metadata": {},
   "source": [
    "<h1> Words Score </h1>\n",
    "\n",
    "In this challenge, the task is to debug the existing code to successfully execute all provided test files.\n",
    "\n",
    "Consider that vowels in the alphabet are a, e, i, o, u and y.\n",
    "\n",
    "Function score_words takes a list of lowercase words as an argument and returns a score as follows:\n",
    "\n",
    "The score of a single word is $2$ if the word contains an even number of vowels. Otherwise, the score of this word is $1$. The score for the whole list of words is the sum of scores of all words in the list.\n",
    "\n",
    "Debug the given function score_words such that it returns a correct score.\n",
    "\n",
    "Your function will be tested on several cases by the locked template code.\n",
    "\n",
    "\n"
   ]
  },
  {
   "cell_type": "code",
   "execution_count": null,
   "metadata": {},
   "outputs": [],
   "source": [
    "def is_vowel(letter):\n",
    "    return letter in ['a', 'e', 'i', 'o', 'u', 'y']\n",
    "\n",
    "def score_words(words):\n",
    "    score = 0\n",
    "    for word in words:\n",
    "        num_vowels = 0\n",
    "        for letter in word:\n",
    "            if is_vowel(letter):\n",
    "                num_vowels += 1\n",
    "        if num_vowels % 2 == 0:\n",
    "            score += 2\n",
    "        else:\n",
    "            ++score\n",
    "    return score\n",
    "\n"
   ]
  }
 ],
 "metadata": {
  "interpreter": {
   "hash": "aee8b7b246df8f9039afb4144a1f6fd8d2ca17a180786b69acc140d282b71a49"
  },
  "kernelspec": {
   "display_name": "Python 3.9.9 64-bit",
   "name": "python3"
  },
  "language_info": {
   "codemirror_mode": {
    "name": "ipython",
    "version": 3
   },
   "file_extension": ".py",
   "mimetype": "text/x-python",
   "name": "python",
   "nbconvert_exporter": "python",
   "pygments_lexer": "ipython3",
   "version": "3.9.9"
  },
  "orig_nbformat": 4
 },
 "nbformat": 4,
 "nbformat_minor": 2
}
