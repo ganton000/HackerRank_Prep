{
 "cells": [
  {
   "cell_type": "markdown",
   "metadata": {},
   "source": [
    "<h1> Dynamic Programming Course := freeCodeCamp </h1>"
   ]
  },
  {
   "cell_type": "code",
   "execution_count": 166,
   "metadata": {},
   "outputs": [
    {
     "name": "stdout",
     "output_type": "stream",
     "text": [
      "2 5 8 13 21 6765\n",
      "0.002299999999991087\n",
      "2 5 8 13 21 6765\n",
      "0.0002980000000150085\n",
      "Is Dynamic quicker than Recursion? True\n",
      "It is 0.0020019999999760785 milliseconds faster.\n",
      "50th, 51st and 52nd Fib Numbers: 12586269025 20365011074 32951280099\n",
      "Time to process: 0.0003240000000062082\n"
     ]
    }
   ],
   "source": [
    "import time \n",
    "'''\n",
    "Given the index $n \\in \\{1,2,\\cdots\\}$ of the fibonacci sequence, \n",
    "write a function that returns the $n$-th fibonacci number.\n",
    "\n",
    "Input: int n\n",
    "Outputs: int n\n",
    "'''\n",
    "\n",
    "\n",
    "def fib(n):\n",
    "    #recursion\n",
    "    if n <= 2: return 1\n",
    "\n",
    "    return fib(n-1) + fib(n-2)\n",
    "\n",
    "\n",
    "start = time.process_time()\n",
    "print(fib(3), fib(5), fib(6), fib(7), fib(8), fib(20))\n",
    "recursion_time = time.process_time()-start\n",
    "print(recursion_time)\n",
    "#Outputs\n",
    "#2; 5; 8; 13; 21\n",
    "\n",
    "'''\n",
    "fib(50) experiences runtime error with Recursion. So another algorithm should be considered.\n",
    "The time complexity will be O(2^n) through the recursive tree structure.\n",
    "The space complexity will be O(n) as the max number of elements on the stack will be n (the depth of the tree)\n",
    "And it will just stack.pop(0) the return elements which lie on the leaf nodes.\n",
    "A good way to measure the time complexity of this is to squeeze the function between recursive tree structures\n",
    "that return fib(n-1) + fib(n-1) and return fib(n-2) + fib(n-2)... so fib(n-1) + fib(n-2) would lie in between both\n",
    "\n",
    "Thus fib(50)  ~ 2^{50} = 1.12e+15 which is a really large number of function calls (1 quadrillion).\n",
    "Thus the bottleneck for this recursion function is the Time Complexity which implies the problem is the number\n",
    "of recursive calls that are made. \n",
    "'''\n",
    "\n",
    "\n",
    "#Implement memoization\n",
    "\n",
    "memo = {}\n",
    "def fibo(n, memo):\n",
    "    if n in memo: return memo[n]\n",
    "    if n <= 2: return 1\n",
    "    memo[n] = fibo(n-1, memo) + fibo(n-2, memo)\n",
    "    return memo[n]\n",
    "\n",
    "\n",
    "\n",
    "start = time.process_time()\n",
    "print(fibo(3, memo), fibo(5, memo), fibo(6, memo), fibo(7, memo), fibo(8, memo), fibo(20,memo))\n",
    "dynamic_time = time.process_time()-start\n",
    "print(dynamic_time)\n",
    "\n",
    "\n",
    "print('Is Dynamic quicker than Recursion?', recursion_time > dynamic_time)\n",
    "print('It is', recursion_time - dynamic_time, 'milliseconds faster.')\n",
    "\n",
    "start = time.process_time()\n",
    "print('50th, 51st and 52nd Fib Numbers:', '{} {} {}'.format(fibo(50, memo), fibo(51, memo), fibo(52, memo)))\n",
    "print('Time to process:', time.process_time() - start)\n",
    "\n",
    "#The runtime of fibo(n, memo), i.e. the dynamic programming style of finding the n^th fib number, is O(2n) = O(n)$.\n",
    "#The space complexity is O(n)$.\n",
    "#Thus memoization has made this from exponential time complexity to linear time complexity.\n",
    "\n",
    "#Outputs\n",
    "#12,586,269,025; \n",
    "\n",
    "\n",
    "\n",
    "\n",
    "\n",
    "\n"
   ]
  },
  {
   "cell_type": "markdown",
   "metadata": {},
   "source": [
    "The following is the closed form for the Fibonacci sequence to generate the $n^{th}$ value <br>\n",
    "This form is created by using Generating Functions:\n",
    "\n",
    "$$f_n = \\frac{1}{\\sqrt{5}} \\left(\\frac{1 + \\sqrt{5}}{2}\\right)^n - \\frac{1}{\\sqrt{5}} \\left(\\frac{1 - \\sqrt{5}}{2}\\right)^n.$$\n",
    "\n"
   ]
  },
  {
   "cell_type": "code",
   "execution_count": 321,
   "metadata": {},
   "outputs": [
    {
     "name": "stdout",
     "output_type": "stream",
     "text": [
      "8th, 50th, 51st and 52nd Fib Numbers: 21 12586269025 20365011074 32951280099\n",
      "Time to process: 0.0005760000000236687\n",
      "Number of times the closed formula is quicker than the dynamic method out of 100 is: 2\n",
      "Number of times the dynamic method is quicker than the closed formula out of 100 is: 98\n"
     ]
    }
   ],
   "source": [
    "\n",
    "def fibb(n):\n",
    "    g = (1+(5**.5))/2\n",
    "    return int((1/(5**.5)*(g**n - (1-g)**n)))\n",
    "\n",
    "start = time.process_time()\n",
    "print('8th, 50th, 51st and 52nd Fib Numbers:', '{} {} {} {}'.format(fibb(8), fibb(50), fibb(51), fibb(52)))\n",
    "print('Time to process:', time.process_time() - start)\n",
    "\n",
    "memo = {}\n",
    "res = []\n",
    "for i in range(100):\n",
    "    start = time.process_time()\n",
    "    fibo(100,memo), fibo(101,memo), fibo(102, memo)\n",
    "    fibo_time = time.process_time() - start \n",
    "    start1 = time.process_time()\n",
    "    fibb(100), fibb(101), fibb(102)\n",
    "    fibb_time = time.process_time() - start1\n",
    "    res.append(fibb_time < fibo_time)\n",
    "\n",
    "print('Number of times the closed formula is quicker than the dynamic method out of 100 is:', res.count(True))\n",
    "print('Number of times the dynamic method is quicker than the closed formula out of 100 is:', res.count(False))\n"
   ]
  },
  {
   "cell_type": "code",
   "execution_count": 324,
   "metadata": {},
   "outputs": [
    {
     "name": "stdout",
     "output_type": "stream",
     "text": [
      "New Test\n",
      "354224848179261915075\n",
      "354224848179263111168\n",
      "Is Dynamic quicker than Closed formula? False  by  0.00023399999997764098 milliseconds\n",
      "The accuracy of the values are not the same, does dyn_method(100) == closed_form(100)?: False\n",
      "Accuracy of closed formula breaks down at index: 72 value 498454011879265 and onwards.\n"
     ]
    },
    {
     "data": {
      "text/plain": [
       "308061521170129"
      ]
     },
     "execution_count": 324,
     "metadata": {},
     "output_type": "execute_result"
    }
   ],
   "source": [
    "#Another test for Closed Form vs. Dynamic\n",
    "\n",
    "print('New Test')\n",
    "start = time.process_time()\n",
    "memo = {}\n",
    "print(fibo(100, memo))\n",
    "memo_time = time.process_time() - start \n",
    "start1 = time.process_time()\n",
    "print(fibb(100))\n",
    "fibb_time1 = time.process_time() - start1\n",
    "print('Is Dynamic quicker than Closed formula?', memo_time < fibb_time1, ' by ',abs(fibb_time1-memo_time) ,'milliseconds')\n",
    "\n",
    "print('The accuracy of the values are not the same, does dyn_method(100) == closed_form(100)?:', fibo(100,memo) == fibb(100))\n",
    "##This indicates floating point imprecision\n",
    "\n",
    "\n",
    "for i in range(1,100):\n",
    "    if fibo(i, memo) != fibb(i):\n",
    "        print('Accuracy of closed formula breaks down at index:', i,'value', fibb(i), 'and onwards.')\n",
    "        break\n",
    "\n",
    "fibo(71,memo)"
   ]
  },
  {
   "cell_type": "code",
   "execution_count": 325,
   "metadata": {},
   "outputs": [
    {
     "name": "stdout",
     "output_type": "stream",
     "text": [
      "New Test\n",
      "1.6099624375063526e-14\n",
      "9.950115069895545e-15\n",
      "6.149509305167982e-15\n",
      "3.800605764727562e-15\n",
      "2.3489035404404196e-15\n",
      "1.4517022242871424e-15\n",
      "8.97201316153277e-16\n"
     ]
    }
   ],
   "source": [
    "# from decimal import *\n",
    "# getcontext().prec = 30\n",
    "\n",
    "print('New Test')\n",
    "g = (1+(5**.5))/2\n",
    "# print('70')\n",
    "# print(fibo(70, memo))\n",
    "# print('{:.10f}'.format((1/(5**.5)*(g**70 - (1-g)**70))))\n",
    "# print('{:.10f}'.format(int((1/(5**.5)*(g**70 - (1-g)**70)))))\n",
    "# print('71')\n",
    "# print(fibo(71, memo))\n",
    "# print('{:.10f}'.format((1/(5**.5)*(g**71 - (1-g)**71))))\n",
    "# print('{:.10f}'.format(int((1/(5**.5)*(g**71 - (1-g)**71)))))\n",
    "# print('72')\n",
    "# print(fibo(72, memo))\n",
    "# print('{:.10f}'.format((1/(5**.5)*(g**72 - (1-g)**72))))\n",
    "# print('{:.10f}'.format(int((1/(5**.5)*(g**72 - (1-g)**72)))))\n",
    "# print('73')\n",
    "# print(fibo(73, memo))\n",
    "# print('{:.10f}'.format((1/(5**.5)*(g**73 - (1-g)**73))))\n",
    "# print('{:.10f}'.format(int((1/(5**.5)*(g**73 - (1-g)**73)))))\n",
    "\n",
    "#g = Decimal(1+(5**.5))/Decimal(2)\n",
    "\n",
    "for i in range(66,73):\n",
    "    print(1/(g**i))\n",
    "    #print(Decimal(1)/Decimal(g**i))\n",
    "\n",
    "##This shows that the inaccuracy of the closed formula stems from floating point imprecision \n",
    "# as at n = 72 we have e^{-16} for floating point and with python floats we get 15-17 digits of precision."
   ]
  },
  {
   "cell_type": "markdown",
   "metadata": {},
   "source": []
  },
  {
   "cell_type": "code",
   "execution_count": 304,
   "metadata": {},
   "outputs": [
    {
     "name": "stdout",
     "output_type": "stream",
     "text": [
      "1.6099624375063526e-14\n",
      "9.950115069895545e-15\n",
      "6.149509305167982e-15\n",
      "3.800605764727562e-15\n",
      "2.3489035404404196e-15\n",
      "1.4517022242871424e-15\n",
      "8.97201316153277e-16\n"
     ]
    }
   ],
   "source": []
  },
  {
   "cell_type": "markdown",
   "metadata": {},
   "source": [
    "<h1> gridTraveler </h1>\n",
    "You are a traveler on a 2D grid. You begin in the top-left corner and your goal is to travel to the bottom-right corner. You may only move down or right.\n",
    "\n",
    "In how many ways can you travel to the goal on a grid with dimensions $m \\times n$?"
   ]
  },
  {
   "cell_type": "code",
   "execution_count": 116,
   "metadata": {},
   "outputs": [
    {
     "name": "stdout",
     "output_type": "stream",
     "text": [
      "1 3 3 6 924\n",
      "Runtime for Recursion method:  0.001964000000015176\n",
      "1 3 3 6 924\n",
      "Runtime for Dynamic method:  0.00164999999998372\n",
      "Is Dynamic method quicker than Recursive? True\n",
      "It is quicker by  0.0003140000000314558 milliseconds.\n",
      "2800552866375665852436103479490078532200005483800695633500 1 2333606220\n",
      "Runtime:  0.020895999999993364\n"
     ]
    }
   ],
   "source": [
    "import time \n",
    "\n",
    "#Drawing out the tree for gridTraveler (we used (2,3) as an example) in terms of recursion\n",
    "#We see the max depth is n + m as we are doing n -= 1 and m -=1 until n,m = 0,0 \n",
    "#Given that each node has two children, the time complexity is O(2^{n+m}).\n",
    "#The space complexity will be O(n+m), the height of the tree (max depth).\n",
    "\n",
    "#First solution (recursion, slower)\n",
    "\n",
    "def gridTraveler(m,n):\n",
    "\n",
    "    if (n==1) & (m==1): return 1\n",
    "    if (n == 0) or (m == 0): return 0\n",
    "\n",
    "    return gridTraveler(m-1,n) + gridTraveler(m,n-1)\n",
    "\n",
    "start = time.process_time()\n",
    "print(gridTraveler(1,1), gridTraveler(2,3), gridTraveler(3,2),gridTraveler(3,3), gridTraveler(7,7))\n",
    "#1 3 3 6 924\n",
    "rec_time = time.process_time() - start\n",
    "print('Runtime for Recursion method: ', rec_time)\n",
    "\n",
    "\n",
    "memo = {}\n",
    "\n",
    "def gridTraveler(m,n, memo):\n",
    "\n",
    "    if (m,n) in memo: return memo[(m,n)]\n",
    "    if (n==1) & (m==1): return 1\n",
    "    if (n == 0) or (m == 0): return 0\n",
    "\n",
    "    memo[(m,n)] = gridTraveler(m-1,n,memo) + gridTraveler(m,n-1,memo)\n",
    "    #memo[(m,n)] = gridTraveler(m,n-1,memo)\n",
    "    \n",
    "    return memo[(m,n)]\n",
    "\n",
    "\n",
    "\n",
    "start = time.process_time()\n",
    "print(gridTraveler(1,1, memo), gridTraveler(2,3, memo), gridTraveler(3,2, memo),gridTraveler(3,3, memo), gridTraveler(7,7, memo))\n",
    "#1 3 3 6 924\n",
    "dyn_time = time.process_time() - start\n",
    "print('Runtime for Dynamic method: ', dyn_time)\n",
    "\n",
    "print('Is Dynamic method quicker than Recursive?', rec_time > dyn_time)\n",
    "print('It is quicker by ', rec_time - dyn_time, 'milliseconds.')\n",
    "\n",
    "start = time.process_time()\n",
    "print(gridTraveler(97,100, memo), gridTraveler(1,100, memo), gridTraveler(18,18, memo))\n",
    "print('Runtime: ', time.process_time() - start)\n",
    "\n",
    "\n",
    "\n",
    "#Output\n",
    "#3,77389422353917655665734895381401697323349680321820201070 ,1,2333606220\n",
    "\n",
    "\n",
    "\n",
    "# Drawing out the tree via the Memoization/Dynamic method, we see \n",
    "# there will be m times n possible combinations of nodes as \n",
    "# for (m,n) = (4,3) we have m:{0,1,2,3,4} and n:{0,1,2,3} just like before \n",
    "# But with memoization, we don't have the pairs of nodes.\n",
    "# So the time complexity is just O(m*n) and space complexity is still O(n+m).\n",
    "\n",
    "\n",
    "\n"
   ]
  },
  {
   "cell_type": "markdown",
   "metadata": {},
   "source": [
    "<h1>canSum Problem </h1>\n",
    "\n",
    "Write a function canSum(targetSum, numbers) that takes in an integer (targetSum) and an array of numbers as arguments.\n",
    "\n",
    "The function should return a boolean indicating whether or not it is possible to generate the targetSum using numbers from the array.\n",
    "\n",
    "<b>Constraints</b>\n",
    "\n",
    "You may use an element of the array as many times as needed.\n",
    "\n",
    "You may assume all input numbers are nonnegative.\n"
   ]
  },
  {
   "cell_type": "code",
   "execution_count": 142,
   "metadata": {},
   "outputs": [
    {
     "name": "stdout",
     "output_type": "stream",
     "text": [
      "True True False True\n",
      "Runtime:  0.00047899999998435305\n"
     ]
    }
   ],
   "source": [
    "import time\n",
    "\n",
    "#first attempt\n",
    "\n",
    "def canSum(targetSum, numbers):\n",
    "\n",
    "    if targetSum == 0: return 'True'\n",
    "    if targetSum < 0: return 'False'\n",
    "\n",
    "    for num in numbers:\n",
    "        remainder = targetSum-num\n",
    "        if canSum(remainder, numbers) == 'True': return 'True'\n",
    "    \n",
    "    return 'False'\n",
    "\n",
    "\n",
    "start = time.process_time()\n",
    "print(canSum(7,[2,3]), canSum(7, [5,3,4,7]), canSum(7,[2,4]), canSum(8, [2,3,5])) #canSum(300,[7,14]))\n",
    "rec_time = time.process_time() - start\n",
    "print('Runtime: ', rec_time)\n",
    "\n",
    "#OUTPUTS\n",
    "#True; True; False; True; False\n",
    "\n",
    "#Runtime for last argument gets increasingly large.\n",
    "'''Given inputs m = targetSum, n = array length.\n",
    "Worst case for height of tree is m, as the worst case will imply that 1 is in the array,\n",
    "and we would travel down each recursive instance by -1 until we reach 0. \n",
    "\n",
    "The number of children a node can have at most is n, as we would iterate towards the \n",
    "entire length of the array in worst case scenario. \n",
    "\n",
    "Thus the Time Complexity is O(n^m); i.e. height x width.\n",
    "The Space Complexity is just the height of the tree; O(m). \n",
    "'''\n",
    "\n",
    "\n",
    "def canSum(targetSum, numbers):\n",
    "    pass\n",
    "    \n",
    "\n",
    "\n",
    "\n",
    "start = time.process_time()\n",
    "print(canSum(7,[2,3]), canSum(7, [5,3,4,7]), canSum(7,[2,4]), canSum(8, [2,3,5])) canSum(300,[7,14]))\n",
    "dyn_time = time.process_time() - start\n",
    "print('Runtime: ', dyn_time)\n",
    "\n",
    "\n",
    "print('Is Dynamic method quicker than Recursive?', rec_time > dyn_time)\n",
    "print('It is quicker by ', rec_time - dyn_time, 'milliseconds.')\n",
    "\n",
    "\n",
    "#OUTPUTS\n",
    "#True; True; False; True; False\n",
    "\n",
    "\n"
   ]
  },
  {
   "cell_type": "code",
   "execution_count": null,
   "metadata": {},
   "outputs": [],
   "source": []
  }
 ],
 "metadata": {
  "interpreter": {
   "hash": "aee8b7b246df8f9039afb4144a1f6fd8d2ca17a180786b69acc140d282b71a49"
  },
  "kernelspec": {
   "display_name": "Python 3.9.5 64-bit",
   "name": "python3"
  },
  "language_info": {
   "codemirror_mode": {
    "name": "ipython",
    "version": 3
   },
   "file_extension": ".py",
   "mimetype": "text/x-python",
   "name": "python",
   "nbconvert_exporter": "python",
   "pygments_lexer": "ipython3",
   "version": "3.9.5"
  },
  "orig_nbformat": 4
 },
 "nbformat": 4,
 "nbformat_minor": 2
}
