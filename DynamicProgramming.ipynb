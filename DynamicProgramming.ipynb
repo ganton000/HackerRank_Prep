{
 "cells": [
  {
   "cell_type": "markdown",
   "metadata": {},
   "source": [
    "<h1> Dynamic Programming Course := freeCodeCamp </h1>"
   ]
  },
  {
   "cell_type": "code",
   "execution_count": 39,
   "metadata": {},
   "outputs": [
    {
     "name": "stdout",
     "output_type": "stream",
     "text": [
      "2 5 8 13 21 6765\n",
      "0.002729999999999677\n",
      "2 5 8 13 21 6765\n",
      "0.00026600000000343016\n",
      "Is Dynamic quicker than Recursion? True\n",
      "50th, 51st and 52nd Fib Numbers: 12586269025 20365011074 32951280099\n",
      "Time to process: 0.000489000000001738\n"
     ]
    }
   ],
   "source": [
    "import time \n",
    "'''\n",
    "Given the index $n \\in \\{1,2,\\cdots\\}$ of the fibonacci sequence, \n",
    "write a function that returns the $n$-th fibonacci number.\n",
    "\n",
    "Input: int n\n",
    "Outputs: int n\n",
    "'''\n",
    "\n",
    "\n",
    "def fib(n):\n",
    "    #recursion\n",
    "    if n <= 2: return 1\n",
    "\n",
    "    return fib(n-1) + fib(n-2)\n",
    "\n",
    "\n",
    "start = time.process_time()\n",
    "print(fib(3), fib(5), fib(6), fib(7), fib(8), fib(20))\n",
    "recursion_time = time.process_time()-start\n",
    "print(recursion_time)\n",
    "#Outputs\n",
    "#2; 5; 8; 13; 21\n",
    "\n",
    "'''\n",
    "fib(50) experiences runtime error with Recursion. So another algorithm should be considered.\n",
    "The time complexity will be O(2^n) through the recursive tree structure.\n",
    "The space complexity will be O(n) as the max number of elements on the stack will be n (the depth of the tree)\n",
    "And it will just stack.pop(0) the return elements which lie on the leaf nodes.\n",
    "A good way to measure the time complexity of this is to squeeze the function between recursive tree structures\n",
    "that return fib(n-1) + fib(n-1) and return fib(n-2) + fib(n-2)... so fib(n-1) + fib(n-2) would lie in between both\n",
    "\n",
    "Thus fib(50)  ~ 2^{50} = 1.12e+15 which is a really large number of function calls (1 quadrillion).\n",
    "Thus the bottleneck for this recursion function is the Time Complexity which implies the problem is the number\n",
    "of recursive calls that are made. \n",
    "'''\n",
    "\n",
    "\n",
    "#Implement memoization\n",
    "\n",
    "memo = {}\n",
    "def fibo(n, memo):\n",
    "    if n in memo: return memo[n]\n",
    "    if n <= 2: return 1\n",
    "    memo[n] = fibo(n-1, memo) + fibo(n-2, memo)\n",
    "    return memo[n]\n",
    "\n",
    "\n",
    "\n",
    "start = time.process_time()\n",
    "print(fibo(3, memo), fibo(5, memo), fibo(6, memo), fibo(7, memo), fibo(8, memo), fibo(20,memo))\n",
    "dynamic_time = time.process_time()-start\n",
    "print(dynamic_time)\n",
    "\n",
    "\n",
    "print('Is Dynamic quicker than Recursion?', recursion_time > dynamic_time)\n",
    "\n",
    "start = time.process_time()\n",
    "print('50th, 51st and 52nd Fib Numbers:', '{} {} {}'.format(fibo(50, memo), fibo(51, memo), fibo(52, memo)))\n",
    "print('Time to process:', time.process_time() - start)\n",
    "\n",
    "\n",
    "#Outputs\n",
    "#12,586,269,025; \n",
    "\n",
    "\n",
    "\n",
    "\n",
    "\n"
   ]
  },
  {
   "cell_type": "code",
   "execution_count": null,
   "metadata": {},
   "outputs": [],
   "source": []
  },
  {
   "cell_type": "code",
   "execution_count": null,
   "metadata": {},
   "outputs": [],
   "source": []
  }
 ],
 "metadata": {
  "interpreter": {
   "hash": "aee8b7b246df8f9039afb4144a1f6fd8d2ca17a180786b69acc140d282b71a49"
  },
  "kernelspec": {
   "display_name": "Python 3.9.5 64-bit",
   "name": "python3"
  },
  "language_info": {
   "codemirror_mode": {
    "name": "ipython",
    "version": 3
   },
   "file_extension": ".py",
   "mimetype": "text/x-python",
   "name": "python",
   "nbconvert_exporter": "python",
   "pygments_lexer": "ipython3",
   "version": "3.9.5"
  },
  "orig_nbformat": 4
 },
 "nbformat": 4,
 "nbformat_minor": 2
}
